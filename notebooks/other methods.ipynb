{
 "cells": [
  {
   "cell_type": "code",
   "execution_count": null,
   "outputs": [],
   "source": [
    "import numpy as np\n",
    "import matplotlib.pyplot as plt\n",
    "from mpl_toolkits.axes_grid1 import make_axes_locatable\n",
    "from nmf_son.base import nmf_son\n",
    "from nmf_son.other_vers import nmf_son_alt, update_wj_subgrad, update_wj_smoothing\n",
    "\n",
    "np.random.seed(42)\n",
    "np.set_printoptions(precision=3)"
   ],
   "metadata": {
    "collapsed": false,
    "pycharm": {
     "name": "#%%\n"
    }
   }
  },
  {
   "cell_type": "code",
   "execution_count": null,
   "outputs": [],
   "source": [
    "def plot_scores(fscores, gscores, lambda_vals, reg_val):\n",
    "    def plot_ax(ax, f, g, total):\n",
    "        ax.plot(total, color='black', linewidth=3, label='total')\n",
    "        ax.plot(f, color='cyan', linewidth=1.5, label='f')\n",
    "        ax.plot(g, color='yellow', linewidth=1.5, label='g')\n",
    "        ax.legend()\n",
    "\n",
    "    total_score = fscores + lambda_vals * gscores\n",
    "    fig, axs = plt.subplots(1, 2, figsize=(20, 6))\n",
    "    fig.suptitle(f'lambda = {reg_val}', fontsize=25)\n",
    "\n",
    "    axs[0].set_yscale('log')\n",
    "    plot_ax(axs[0], fscores, gscores, total_score)\n",
    "    axs[0].set_title('log scale', fontsize=16)\n",
    "\n",
    "    axs[1].set_yscale('log')\n",
    "    plot_ax(axs[1], fscores - fscores[-1], gscores - gscores[-1], total_score - total_score[-1])\n",
    "    axs[1].set_title('log(score - score*)', fontsize=16)\n",
    "\n",
    "def plot_matrices(W, H, img_size, comparison_idxs):\n",
    "    fig, axs = plt.subplots(2, len(comparison_idxs), figsize=(20, 10), sharey='row')\n",
    "\n",
    "    for i, idx in enumerate(comparison_idxs):\n",
    "        axs[0, i].plot(W[:, idx] / np.dot(W[:, idx], W[:, idx]))\n",
    "        axs[0, i].set_title(f'W({idx+1})')\n",
    "\n",
    "        h_idx_3d = H[idx, :].reshape(img_size, order='F')\n",
    "        axs[1, i].plot(h_idx_3d)\n",
    "        axs[1, i].set_title(f'H({idx+1})')\n",
    "\n",
    "def plot_images(H, img_size, comparison_idxs):\n",
    "    fig, axs = plt.subplots(1, len(comparison_idxs), figsize=(20, 10))\n",
    "\n",
    "    for i, idx in enumerate(comparison_idxs):\n",
    "        h_idx_3d = H[idx, :].reshape(img_size, order='F')\n",
    "\n",
    "        axs[i].imshow(h_idx_3d)\n",
    "        img = axs[i].imshow(h_idx_3d, cmap='gray')\n",
    "        divider = make_axes_locatable(axs[i])\n",
    "\n",
    "        cax = divider.append_axes('right', size='5%', pad=0.1)\n",
    "        fig.colorbar(img, cax=cax, orientation='vertical')\n",
    "        axs[i].set_title(f'H({idx+1})')"
   ],
   "metadata": {
    "collapsed": false,
    "pycharm": {
     "name": "#%%\n"
    }
   }
  },
  {
   "cell_type": "code",
   "execution_count": null,
   "outputs": [],
   "source": [
    "X = np.load('../datasets/jasper_full.npz')['X']\n",
    "rank = 8\n",
    "\n",
    "data = np.load(f'../saved_models/jasper/jasper_full_r{rank}_ini.npz')\n",
    "ini_W = data['W']\n",
    "ini_H = data['H']\n",
    "\n",
    "reg = 15\n",
    "save_filepath = '../saved_models/urban/acc_testing/r{}_l{}_{}.npz'"
   ],
   "metadata": {
    "collapsed": false,
    "pycharm": {
     "name": "#%%\n"
    }
   }
  },
  {
   "cell_type": "code",
   "execution_count": null,
   "outputs": [],
   "source": [
    "aa_size = 2\n",
    "max_iter = 3000"
   ],
   "metadata": {
    "collapsed": false,
    "pycharm": {
     "name": "#%%\n"
    }
   }
  },
  {
   "cell_type": "code",
   "execution_count": null,
   "outputs": [],
   "source": [
    "%%time\n",
    "Wb_admm, Hb_admm, Wl_admm, Hl_admm, fscores_admm, gscores_admm, lambda_vals_admm = nmf_son(X, ini_W.copy(), ini_H.copy(), _lambda=reg, itermax=max_iter, verbose=True)"
   ],
   "metadata": {
    "collapsed": false,
    "pycharm": {
     "name": "#%%\n"
    }
   }
  },
  {
   "cell_type": "code",
   "execution_count": null,
   "outputs": [],
   "source": [
    "%%time\n",
    "Wb_subgrad, Hb_subgrad, Wl_subgrad, Hl_subgrad, fscores_subgrad, gscores_subgrad, lambda_vals_subgrad = nmf_son_alt(update_wj_subgrad, X, ini_W.copy(), ini_H.copy(), _lambda=reg, itermax=max_iter, verbose=True)"
   ],
   "metadata": {
    "collapsed": false,
    "pycharm": {
     "name": "#%%\n"
    }
   }
  },
  {
   "cell_type": "code",
   "execution_count": null,
   "outputs": [],
   "source": [
    "%%time\n",
    "Wb_sm, Hb_sm, Wl_sm, Hl_sm, fscores_sm, gscores_sm, lambda_vals_sm = nmf_son_alt(update_wj_smoothing, X, ini_W.copy(), ini_H.copy(), _lambda=reg, itermax=max_iter, verbose=True)"
   ],
   "metadata": {
    "collapsed": false,
    "pycharm": {
     "name": "#%%\n"
    }
   }
  },
  {
   "cell_type": "code",
   "execution_count": null,
   "outputs": [],
   "source": [
    "total_score_admm = fscores_admm + lambda_vals_admm * gscores_admm\n",
    "total_score_subgrad = fscores_subgrad + lambda_vals_subgrad * gscores_subgrad\n",
    "total_score_sm = fscores_sm + lambda_vals_sm * gscores_sm\n",
    "plot_scores(fscores_admm, gscores_admm, lambda_vals_admm, reg)"
   ],
   "metadata": {
    "collapsed": false,
    "pycharm": {
     "name": "#%%\n"
    }
   }
  },
  {
   "cell_type": "code",
   "execution_count": null,
   "outputs": [],
   "source": [
    "plot_scores(fscores_subgrad, gscores_subgrad, lambda_vals_subgrad, reg)"
   ],
   "metadata": {
    "collapsed": false,
    "pycharm": {
     "name": "#%%\n"
    }
   }
  },
  {
   "cell_type": "code",
   "execution_count": null,
   "outputs": [],
   "source": [
    "plot_scores(fscores_sm, gscores_sm, lambda_vals_sm, reg)"
   ],
   "metadata": {
    "collapsed": false,
    "pycharm": {
     "name": "#%%\n"
    }
   }
  }
 ],
 "metadata": {
  "kernelspec": {
   "display_name": "Python 3",
   "language": "python",
   "name": "python3"
  },
  "language_info": {
   "codemirror_mode": {
    "name": "ipython",
    "version": 2
   },
   "file_extension": ".py",
   "mimetype": "text/x-python",
   "name": "python",
   "nbconvert_exporter": "python",
   "pygments_lexer": "ipython2",
   "version": "2.7.6"
  }
 },
 "nbformat": 4,
 "nbformat_minor": 0
}