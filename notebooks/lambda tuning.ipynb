{
 "cells": [
  {
   "cell_type": "code",
   "execution_count": null,
   "outputs": [],
   "source": [
    "import numpy as np\n",
    "import matplotlib.pyplot as plt\n",
    "from mpl_toolkits.axes_grid1 import make_axes_locatable\n",
    "from nmf_son.base import nmf_son\n",
    "from nmf_son.utils import load_results\n",
    "from sklearn.decomposition import NMF\n",
    "\n",
    "np.random.seed(42)\n",
    "np.set_printoptions(precision=3)"
   ],
   "metadata": {
    "collapsed": false,
    "pycharm": {
     "name": "#%%\n"
    }
   }
  },
  {
   "cell_type": "code",
   "execution_count": null,
   "outputs": [],
   "source": [
    "# def plot_matrices(W, H, img_size, comparison_idxs):\n",
    "#     fig, axs = plt.subplots(2, len(comparison_idxs), figsize=(20, 10), sharey='row')\n",
    "#\n",
    "#     for i, idx in enumerate(comparison_idxs):\n",
    "#         axs[0, i].plot(W[:, idx] / np.dot(W[:, idx], W[:, idx]))\n",
    "#         axs[0, i].set_title(f'W({idx+1})')\n",
    "#\n",
    "#         h_idx_3d = H[idx, :].reshape(img_size, order='F')\n",
    "#         axs[1, i].plot(h_idx_3d)\n",
    "#         axs[1, i].set_title(f'H({idx+1})')\n",
    "#\n",
    "# def plot_images(H, img_size, comparison_idxs):\n",
    "#     fig, axs = plt.subplots(1, len(comparison_idxs), figsize=(20, 10))\n",
    "#\n",
    "#     for i, idx in enumerate(comparison_idxs):\n",
    "#         h_idx_3d = H[idx, :].reshape(img_size, order='F')\n",
    "#\n",
    "#         axs[i].imshow(h_idx_3d)\n",
    "#         img = axs[i].imshow(h_idx_3d, cmap='gray')\n",
    "#         divider = make_axes_locatable(axs[i])\n",
    "#\n",
    "#         cax = divider.append_axes('right', size='5%', pad=0.1)\n",
    "#         fig.colorbar(img, cax=cax, orientation='vertical')\n",
    "#         axs[i].set_title(f'H({idx+1})')\n",
    "\n",
    "\n",
    "def plot_scores(fscores, gscores, lambda_vals, plot_title=None, filename=None):\n",
    "    fscores = fscores[1:]\n",
    "    gscores = gscores[1:]\n",
    "    lambda_vals = lambda_vals[1:]\n",
    "    total_score = fscores + lambda_vals * gscores\n",
    "    fig, axs = plt.subplots(1, 2, figsize=(20, 6))\n",
    "    if plot_title:\n",
    "        fig.suptitle(plot_title, fontsize=25)\n",
    "\n",
    "    axs[0].set_yscale('log')\n",
    "    axs[0].plot(total_score, color='black', linewidth=3, label='$F(W, H)$')\n",
    "    axs[0].plot(fscores, color='cyan', linewidth=1.5, label='$f(W, H)$')\n",
    "    axs[0].plot(gscores, color='yellow', linewidth=1.5, label='$g(W)$')\n",
    "    axs[0].set_xlabel('Iterations')\n",
    "    axs[0].legend()\n",
    "\n",
    "    fscores -= min(fscores)\n",
    "    gscores -= min(gscores)\n",
    "    total_score -= min(total_score)\n",
    "\n",
    "    axs[1].set_yscale('log')\n",
    "    axs[1].plot(total_score, color='black', linewidth=3, label='$F(W, H) - min(F(W, H))$')\n",
    "    axs[1].plot(fscores, color='cyan', linewidth=1.5, label='$f(W, H) - min(f(W, H))$')\n",
    "    axs[1].plot(gscores, color='yellow', linewidth=1.5, label='$g(W) - min($g(W)$)')\n",
    "    axs[1].set_xlabel('Iterations')\n",
    "    axs[1].legend()\n",
    "\n",
    "    if filename:\n",
    "        fig.savefig(filename)\n",
    "\n",
    "\n",
    "def plot_combined_H(H, img_size, split=False, filename=None):\n",
    "    H3d = H.reshape(-1, img_size[0], img_size[1], order='F')\n",
    "    if split:\n",
    "        half_rank = int(H.shape[0] / 2)\n",
    "        large_mat = np.vstack([np.hstack(H3d[: half_rank, :, :]), np.hstack(H3d[half_rank: , :, :])])\n",
    "    else:\n",
    "        large_mat = np.hstack(H3d)\n",
    "    plt.figure(figsize=(20, 10))\n",
    "    plt.imshow(large_mat, cmap='gray')\n",
    "    plt.colorbar()\n",
    "\n",
    "    if filename:\n",
    "        plt.savefig(filename)\n",
    "\n",
    "\n",
    "def plot_W_mats(W, split=False, filename=None):\n",
    "    rank = W.shape[1]\n",
    "    wmax = np.max(W)\n",
    "\n",
    "    if split:\n",
    "        half_rank = int(rank / 2)\n",
    "        fig, axs = plt.subplots(2, half_rank, figsize=(20, 10))\n",
    "        i, j, cnt = 0, 0, 0\n",
    "        while cnt < rank:\n",
    "            axs[i, j].plot(W[:, cnt])\n",
    "            axs[i, j].set_ylim([0, wmax])\n",
    "            axs[i, j].set_title(f'$W_{cnt + 1}$')\n",
    "            j += 1\n",
    "            if cnt + 1 == half_rank:\n",
    "                i = 1\n",
    "                j = 0\n",
    "            cnt += 1\n",
    "    else:\n",
    "        fig, axs = plt.subplots(1, rank, figsize=(20, 5))\n",
    "        cnt = 0\n",
    "        while cnt < rank:\n",
    "            axs[cnt].plot(W[:, cnt])\n",
    "            axs[cnt].set_ylim([0, wmax])\n",
    "            axs[cnt].set_title(f'$W_{cnt + 1}$')\n",
    "            cnt += 1\n",
    "    if filename:\n",
    "        fig.savefig(filename)"
   ],
   "metadata": {
    "collapsed": false,
    "pycharm": {
     "name": "#%%\n"
    }
   }
  },
  {
   "cell_type": "code",
   "execution_count": null,
   "outputs": [],
   "source": [
    "max_iter = 3000"
   ],
   "metadata": {
    "collapsed": false,
    "pycharm": {
     "name": "#%%\n"
    }
   }
  },
  {
   "cell_type": "markdown",
   "source": [
    "## Urban Small"
   ],
   "metadata": {
    "collapsed": false,
    "pycharm": {
     "name": "#%% md\n"
    }
   }
  },
  {
   "cell_type": "code",
   "execution_count": null,
   "outputs": [],
   "source": [
    "# X = np.load('../datasets/urban_small.npz')['X']\n",
    "# rank = 6\n",
    "# img_size = (20, 10)\n",
    "# data = np.load(f'../saved_models/urban_small_r{rank}_ini.npz')\n",
    "# ini_W = data['W']\n",
    "# ini_H = data['H']\n",
    "# save_filepath = '../saved_models/urban_small_tuning/r{}_l{}.npz'\n",
    "#\n",
    "# reg_vals = [1e-7, 1e-6, 1e-5, 0.0001, 0.001, 0.01, 0.1, 0.25, 0.5, 0.75, 1, 1.25, 1.5, 1.75, 2, 2.5, 3, 3.5, 4.5, 5, 8, 10, 20, 50, 100, 1000, 10000]"
   ],
   "metadata": {
    "collapsed": false,
    "pycharm": {
     "name": "#%%\n"
    }
   }
  },
  {
   "cell_type": "code",
   "execution_count": null,
   "outputs": [],
   "source": [
    "# for reg_val in reg_vals:\n",
    "#     Wb, Hb, Wl, Hl, fscores, gscores, lambda_vals = nmf_son(X, ini_W.copy(), ini_H.copy(), _lambda=reg_val, itermax=max_iter)\n",
    "#     with open(save_filepath.format(rank, reg_val), 'wb') as fout:\n",
    "#         np.savez_compressed(fout, Wb=Wb, Hb=Hb, Wl=Wl, Hl=Hl, fscores=fscores, gscores=gscores, lambda_vals=lambda_vals)\n",
    "#         print(reg_val, 'done')"
   ],
   "metadata": {
    "collapsed": false,
    "pycharm": {
     "name": "#%%\n"
    }
   }
  },
  {
   "cell_type": "code",
   "execution_count": null,
   "outputs": [],
   "source": [
    "# true_rank = 2\n",
    "# m, n = X.shape\n",
    "# model = NMF(n_components=true_rank, init='random', random_state=42, tol=1e-5, max_iter=3000)\n",
    "# vanillaW = model.fit_transform(X=X)\n",
    "# vanillaH = model.components_\n",
    "# plot_W_mats(vanillaW)\n",
    "# plot_combined_H(vanillaH, img_size)"
   ],
   "metadata": {
    "collapsed": false,
    "pycharm": {
     "name": "#%%\n"
    }
   }
  },
  {
   "cell_type": "code",
   "execution_count": null,
   "outputs": [],
   "source": [
    "# model = NMF(n_components=rank, init='custom', random_state=42, tol=1e-5, max_iter=3000)\n",
    "# vanillaW = model.fit_transform(X=X, W=ini_W.copy(), H=ini_H.copy())\n",
    "# vanillaH = model.components_\n",
    "# plot_combined_H(vanillaH, img_size)\n",
    "# plot_W_mats(vanillaW)"
   ],
   "metadata": {
    "collapsed": false,
    "pycharm": {
     "name": "#%%\n"
    }
   }
  },
  {
   "cell_type": "code",
   "execution_count": null,
   "outputs": [],
   "source": [
    "# for reg_val in reg_vals:\n",
    "#     Wb, Hb, Wl, Hl, fscores, gscores, lambda_vals = load_results(save_filepath.format(rank, reg_val))\n",
    "#     plot_scores(fscores, gscores, lambda_vals, f'$\\lambda = {reg_val}$')\n",
    "#     plot_W_mats(Wl)\n",
    "#     plot_combined_H(Hl, img_size)"
   ],
   "metadata": {
    "collapsed": false,
    "pycharm": {
     "name": "#%%\n"
    }
   }
  },
  {
   "cell_type": "markdown",
   "source": [
    "## Jasper"
   ],
   "metadata": {
    "collapsed": false,
    "pycharm": {
     "name": "#%% md\n"
    }
   }
  },
  {
   "cell_type": "code",
   "execution_count": null,
   "outputs": [],
   "source": [
    "X = np.load('../datasets/jasper_full.npz')['X']\n",
    "rank = 8\n",
    "img_size = (100, 100)\n",
    "data = np.load(f'../saved_models/jasper_full_r{rank}_ini.npz')\n",
    "ini_W = data['W']\n",
    "ini_H = data['H']\n",
    "save_filepath = '../saved_models/jasper_tuning/r{}_l{}.npz'\n",
    "\n",
    "reg_vals = [1e-8, 1e-7, 1e-6, 1e-5, 0.0001, 0.001, 0.01, 0.1, 0.5, 1, 2, 5, 10, 20, 50, 100, 1000]"
   ],
   "metadata": {
    "collapsed": false,
    "pycharm": {
     "name": "#%%\n"
    }
   }
  },
  {
   "cell_type": "code",
   "execution_count": null,
   "outputs": [],
   "source": [
    "# for reg_val in reg_vals:\n",
    "#     Wb, Hb, Wl, Hl, fscores, gscores, lambda_vals = nmf_son(X, ini_W.copy(), ini_H.copy(), _lambda=reg_val, itermax=max_iter)\n",
    "#     with open(save_filepath.format(rank, reg_val), 'wb') as fout:\n",
    "#         np.savez_compressed(fout, Wb=Wb, Hb=Hb, Wl=Wl, Hl=Hl, fscores=fscores, gscores=gscores, lambda_vals=lambda_vals)\n",
    "#         print(reg_val, 'done')"
   ],
   "metadata": {
    "collapsed": false,
    "pycharm": {
     "name": "#%%\n"
    }
   }
  },
  {
   "cell_type": "code",
   "execution_count": null,
   "outputs": [],
   "source": [
    "true_rank = 4\n",
    "m, n = X.shape\n",
    "model = NMF(n_components=true_rank, init='random', random_state=42, tol=1e-5, max_iter=3000)\n",
    "vanillaW = model.fit_transform(X=X)\n",
    "vanillaH = model.components_\n",
    "plot_W_mats(vanillaW)\n",
    "plot_combined_H(vanillaH, img_size)"
   ],
   "metadata": {
    "collapsed": false,
    "pycharm": {
     "name": "#%%\n"
    }
   }
  },
  {
   "cell_type": "code",
   "execution_count": null,
   "outputs": [],
   "source": [
    "model = NMF(n_components=rank, init='custom', random_state=42, tol=1e-5, max_iter=3000)\n",
    "vanillaW = model.fit_transform(X=X, W=ini_W.copy(), H=ini_H.copy())\n",
    "vanillaH = model.components_\n",
    "plot_W_mats(vanillaW, split=True)\n",
    "plot_combined_H(vanillaH, img_size, split=True)"
   ],
   "metadata": {
    "collapsed": false,
    "pycharm": {
     "name": "#%%\n"
    }
   }
  },
  {
   "cell_type": "code",
   "execution_count": null,
   "outputs": [],
   "source": [
    "for reg_val in reg_vals:\n",
    "    Wb, Hb, Wl, Hl, fscores, gscores, lambda_vals = load_results(save_filepath.format(rank, reg_val))\n",
    "    plot_scores(fscores, gscores, lambda_vals, f'$\\lambda = {reg_val}$')\n",
    "    plot_W_mats(Wl, split=True)\n",
    "    plot_combined_H(Hl, img_size, split=True)"
   ],
   "metadata": {
    "collapsed": false,
    "pycharm": {
     "name": "#%%\n"
    }
   }
  },
  {
   "cell_type": "markdown",
   "source": [
    "## Urban"
   ],
   "metadata": {
    "collapsed": false,
    "pycharm": {
     "name": "#%% md\n"
    }
   }
  },
  {
   "cell_type": "code",
   "execution_count": null,
   "outputs": [],
   "source": [
    "# X = np.load('../datasets/urban_full.npz')['X']\n",
    "# rank = 10\n",
    "# img_size = (307, 307)\n",
    "# data = np.load(f'../saved_models/urban/urban_full_r{rank}_ini.npz')\n",
    "# ini_W = data['W']\n",
    "# ini_H = data['H']\n",
    "# save_filepath = '../saved_models/urban_tuning/r{}_l{}.npz'\n",
    "#\n",
    "# reg_vals = [0.01, 0.1, 1, 10, 100]"
   ],
   "metadata": {
    "collapsed": false,
    "pycharm": {
     "name": "#%%\n"
    }
   }
  },
  {
   "cell_type": "code",
   "execution_count": null,
   "outputs": [],
   "source": [
    "# for reg_val in reg_vals:\n",
    "#     Wb, Hb, Wl, Hl, fscores, gscores, lambda_vals = nmf_son(X, ini_W.copy(), ini_H.copy(), _lambda=reg_val, itermax=max_iter)\n",
    "#     with open(save_filepath.format(rank, reg_val), 'wb') as fout:\n",
    "#         np.savez_compressed(fout, Wb=Wb, Hb=Hb, Wl=Wl, Hl=Hl, fscores=fscores, gscores=gscores, lambda_vals=lambda_vals)\n",
    "#         print(reg_val, 'done')"
   ],
   "metadata": {
    "collapsed": false,
    "pycharm": {
     "name": "#%%\n"
    }
   }
  },
  {
   "cell_type": "code",
   "execution_count": null,
   "outputs": [],
   "source": [
    "# true_rank = 6\n",
    "# m, n = X.shape\n",
    "# model = NMF(n_components=true_rank, init='random', random_state=42, tol=1e-5, max_iter=3000)\n",
    "# vanillaW = model.fit_transform(X=X)\n",
    "# vanillaH = model.components_\n",
    "# plot_W_mats(vanillaW)\n",
    "# plot_combined_H(vanillaH, img_size)"
   ],
   "metadata": {
    "collapsed": false,
    "pycharm": {
     "name": "#%%\n"
    }
   }
  },
  {
   "cell_type": "code",
   "execution_count": null,
   "outputs": [],
   "source": [
    "# model = NMF(n_components=rank, init='custom', random_state=42, tol=1e-5, max_iter=3000)\n",
    "# vanillaW = model.fit_transform(X=X, W=ini_W.copy(), H=ini_H.copy())\n",
    "# vanillaH = model.components_\n",
    "# plot_W_mats(vanillaW)\n",
    "# plot_combined_H(vanillaH, img_size)"
   ],
   "metadata": {
    "collapsed": false,
    "pycharm": {
     "name": "#%%\n"
    }
   }
  },
  {
   "cell_type": "code",
   "execution_count": null,
   "outputs": [],
   "source": [
    "# for reg_val in reg_vals:\n",
    "#     Wb, Hb, Wl, Hl, fscores, gscores, lambda_vals = load_results(save_filepath.format(rank, reg_val))\n",
    "#     plot_scores(fscores, gscores, lambda_vals, f'$\\lambda = {reg_val}$')\n",
    "#     plot_W_mats(Wl, split=True)\n",
    "#     plot_combined_H(Hl, img_size, split=True)"
   ],
   "metadata": {
    "collapsed": false,
    "pycharm": {
     "name": "#%%\n"
    }
   }
  }
 ],
 "metadata": {
  "kernelspec": {
   "display_name": "Python 3",
   "language": "python",
   "name": "python3"
  },
  "language_info": {
   "codemirror_mode": {
    "name": "ipython",
    "version": 2
   },
   "file_extension": ".py",
   "mimetype": "text/x-python",
   "name": "python",
   "nbconvert_exporter": "python",
   "pygments_lexer": "ipython2",
   "version": "2.7.6"
  }
 },
 "nbformat": 4,
 "nbformat_minor": 0
}