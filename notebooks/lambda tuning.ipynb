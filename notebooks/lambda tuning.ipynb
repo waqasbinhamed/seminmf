{
 "cells": [
  {
   "cell_type": "code",
   "execution_count": null,
   "outputs": [],
   "source": [
    "import numpy as np\n",
    "import matplotlib.pyplot as plt\n",
    "from mpl_toolkits.axes_grid1 import make_axes_locatable\n",
    "from nmf_son.base import nmf_son\n",
    "from nmf_son.utils import load_results\n",
    "from sklearn.decomposition import NMF\n",
    "\n",
    "np.random.seed(42)\n",
    "np.set_printoptions(precision=3)"
   ],
   "metadata": {
    "collapsed": false,
    "pycharm": {
     "name": "#%%\n"
    }
   }
  },
  {
   "cell_type": "code",
   "execution_count": null,
   "outputs": [],
   "source": [
    "def plot_scores(fscores, gscores, lambda_vals, reg_val):\n",
    "    def plot_ax(ax, f, g, total):\n",
    "        ax.plot(total, color='black', linewidth=3, label='total')\n",
    "        ax.plot(f, color='cyan', linewidth=1.5, label='f')\n",
    "        ax.plot(g, color='yellow', linewidth=1.5, label='g')\n",
    "        ax.legend()\n",
    "\n",
    "    total_score = fscores + lambda_vals * gscores\n",
    "    fig, axs = plt.subplots(1, 2, figsize=(20, 6))\n",
    "    fig.suptitle(f'lambda = {reg_val}', fontsize=25)\n",
    "\n",
    "    axs[0].set_yscale('log')\n",
    "    plot_ax(axs[0], fscores, gscores, total_score)\n",
    "    axs[0].set_title('log scale', fontsize=16)\n",
    "\n",
    "    axs[1].set_yscale('log')\n",
    "    plot_ax(axs[1], fscores - fscores[-1], gscores - gscores[-1], total_score - total_score[-1])\n",
    "    axs[1].set_title('log(score - score*)', fontsize=16)\n",
    "\n",
    "def plot_matrices(W, H, img_size, comparison_idxs):\n",
    "    fig, axs = plt.subplots(2, len(comparison_idxs), figsize=(20, 10), sharey='row')\n",
    "\n",
    "    for i, idx in enumerate(comparison_idxs):\n",
    "        axs[0, i].plot(W[:, idx] / np.dot(W[:, idx], W[:, idx]))\n",
    "        axs[0, i].set_title(f'W({idx+1})')\n",
    "\n",
    "        h_idx_3d = H[idx, :].reshape(img_size, order='F')\n",
    "        axs[1, i].plot(h_idx_3d)\n",
    "        axs[1, i].set_title(f'H({idx+1})')\n",
    "\n",
    "def plot_images(H, img_size, comparison_idxs):\n",
    "    fig, axs = plt.subplots(1, len(comparison_idxs), figsize=(20, 10))\n",
    "\n",
    "    for i, idx in enumerate(comparison_idxs):\n",
    "        h_idx_3d = H[idx, :].reshape(img_size, order='F')\n",
    "\n",
    "        axs[i].imshow(h_idx_3d)\n",
    "        img = axs[i].imshow(h_idx_3d, cmap='gray')\n",
    "        divider = make_axes_locatable(axs[i])\n",
    "\n",
    "        cax = divider.append_axes('right', size='5%', pad=0.1)\n",
    "        fig.colorbar(img, cax=cax, orientation='vertical')\n",
    "        axs[i].set_title(f'H({idx+1})')"
   ],
   "metadata": {
    "collapsed": false,
    "pycharm": {
     "name": "#%%\n"
    }
   }
  },
  {
   "cell_type": "code",
   "execution_count": null,
   "outputs": [],
   "source": [
    "X = np.load('../datasets/jasper_full.npz')['X']\n",
    "rank = 8\n",
    "\n",
    "data = np.load(f'../saved_models/jasper/jasper_full_r{rank}_ini.npz')\n",
    "ini_W = data['W']\n",
    "ini_H = data['H']\n",
    "\n",
    "# reg_vals = [1e-6, 1e-5, 1e-4, 0.001, 0.001, 0.01, 0.1, 0.5, 1, 2, 5, 10]\n",
    "# reg_vals = [1e-8, 1e-7, 8, 10, 15, 20, 50, 80, 100, 1000, 1e4]\n",
    "reg_vals = [1e-12, 1e-10, 25, 30, 35, 40, 45]\n",
    "save_filepath = '../saved_models/jasper/lambda_tuning/r{}_l{}.npz'"
   ],
   "metadata": {
    "collapsed": false,
    "pycharm": {
     "name": "#%%\n"
    }
   }
  },
  {
   "cell_type": "code",
   "execution_count": null,
   "outputs": [],
   "source": [
    "# X = np.load('../datasets/urban_full.npz')['X']\n",
    "# rank = 10\n",
    "#\n",
    "# data = np.load(f'../saved_models/urban/urban_full_r{rank}_ini.npz')\n",
    "# ini_W = data['W']\n",
    "# ini_H = data['H']\n",
    "#\n",
    "# # reg_vals = [0.001, 0.002, 0.005, 0.01, 0.02, 0.05, 0.1, 0.25, 0.5, 0.75, 1, 2, 5, 10, 25, 50, 100, 200, 500, 1000]\n",
    "# # reg_vals = [1e-8, 2e-8, 4e-8, 6e-7, 1e-7, 2e-7, 4e-7, 7e-7, 1e-6, 2e-6, 5e-6, 1e-5, 1.5e-5, 2e-5, 5e-5, 1e-4, 2e-4, 5e-4, 8e-4, 1e-3]\n",
    "# # reg_vals = [5e-5, 5.5e-5, 6e-5, 6.5e-5, 7e-5, 7.5e-5, 8e-5, 8.5e-5, 9e-5, 9.5e-5, 1e-4]\n",
    "# # reg_vals = [1, 1.25, 1.5, 1.75, 2, 2.25, 2.5, 2.75, 3, 3.25, 3.5, 3.75, 4, 4.25, 4.5, 4.75, 5]\n",
    "# # reg_vals = [0.01, 0.1, 0.5, 1, 2, 5, 8, 10, 100]\n",
    "# reg_vals = [100, 10, 8, 5]\n",
    "# save_filepath = '../saved_models/urban/lambda_tuning/r{}_l{}.npz'"
   ],
   "metadata": {
    "collapsed": false,
    "pycharm": {
     "name": "#%%\n"
    }
   }
  },
  {
   "cell_type": "code",
   "execution_count": null,
   "outputs": [],
   "source": [
    "max_iter = 3000"
   ],
   "metadata": {
    "collapsed": false,
    "pycharm": {
     "name": "#%%\n"
    }
   }
  },
  {
   "cell_type": "code",
   "execution_count": null,
   "outputs": [],
   "source": [
    "# for reg_val in reg_vals:\n",
    "#     Wb, Hb, Wl, Hl, fscores, gscores, lambda_vals = nmf_son(X, ini_W.copy(), ini_H.copy(), _lambda=reg_val, itermax=max_iter)\n",
    "#     with open(save_filepath.format(rank, reg_val), 'wb') as fout:\n",
    "#         np.savez_compressed(fout, Wb=Wb, Hb=Hb, Wl=Wl, Hl=Hl, fscores=fscores, gscores=gscores, lambda_vals=lambda_vals)"
   ],
   "metadata": {
    "collapsed": false,
    "pycharm": {
     "name": "#%%\n"
    }
   }
  },
  {
   "cell_type": "code",
   "execution_count": null,
   "outputs": [],
   "source": [
    "comp_idxs = range(rank)\n",
    "img_size = (100, 100)"
   ],
   "metadata": {
    "collapsed": false,
    "pycharm": {
     "name": "#%%\n"
    }
   }
  },
  {
   "cell_type": "code",
   "execution_count": null,
   "outputs": [],
   "source": [
    "# model = NMF(n_components=rank, init='random', random_state=42, max_iter=max_iter)\n",
    "# vanillaW = model.fit_transform(X)\n",
    "# vanillaH = model.components_\n",
    "#\n",
    "# plot_matrices(smaller_vanillaW, smaller_vanillaH, img_size, range(rank))"
   ],
   "metadata": {
    "collapsed": false,
    "pycharm": {
     "name": "#%%\n"
    }
   }
  },
  {
   "cell_type": "code",
   "execution_count": null,
   "outputs": [],
   "source": [
    "for reg_val in reg_vals:\n",
    "    Wb, Hb, Wl, Hl, fscores, gscores, lambda_vals = load_results(f'../saved_models/jasper/lambda_tuning/r8_l{reg_val}.npz')\n",
    "    plot_scores(fscores, gscores, lambda_vals, reg_val)\n",
    "    plot_matrices(Wl, Hl, img_size, comp_idxs)\n",
    "    plot_images(Hl, img_size, comp_idxs)"
   ],
   "metadata": {
    "collapsed": false,
    "pycharm": {
     "name": "#%%\n"
    }
   }
  },
  {
   "cell_type": "code",
   "execution_count": null,
   "outputs": [],
   "source": [
    "# import os\n",
    "#\n",
    "# for k in range(len(it_ckpts)):\n",
    "#     os.rename(save_filepath.format(rank, str(reg_vals[5]).replace('.', '_'), it_ckpts[k]),\n",
    "#               save_filepath.format(rank, '7.5e-05'.replace('.', '_'), it_ckpts[k]))"
   ],
   "metadata": {
    "collapsed": false,
    "pycharm": {
     "name": "#%%\n"
    }
   }
  },
  {
   "cell_type": "code",
   "execution_count": null,
   "outputs": [],
   "source": [
    "# total_scores = fscores + np.r_[np.NaN, lambda_vals[1:]] * gscores\n",
    "# sum((abs(total_scores[1:] - total_scores[:-1]) / total_scores[:-1]) >= 1e-5)\n",
    "# abs(total_scores[1:] - total_scores[:-1]) / total_scores[:-1]"
   ],
   "metadata": {
    "collapsed": false,
    "pycharm": {
     "name": "#%%\n"
    }
   }
  }
 ],
 "metadata": {
  "kernelspec": {
   "display_name": "Python 3",
   "language": "python",
   "name": "python3"
  },
  "language_info": {
   "codemirror_mode": {
    "name": "ipython",
    "version": 2
   },
   "file_extension": ".py",
   "mimetype": "text/x-python",
   "name": "python",
   "nbconvert_exporter": "python",
   "pygments_lexer": "ipython2",
   "version": "2.7.6"
  }
 },
 "nbformat": 4,
 "nbformat_minor": 0
}