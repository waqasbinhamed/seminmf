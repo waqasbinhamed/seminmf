{
 "cells": [
  {
   "cell_type": "code",
   "execution_count": 1,
   "outputs": [],
   "source": [
    "import numpy as np\n",
    "import matplotlib.pyplot as plt\n",
    "from mpl_toolkits.axes_grid1 import make_axes_locatable\n",
    "from nmf_son.base import nmf_son\n",
    "from nmf_son.utils import load_results\n",
    "from sklearn.decomposition import NMF\n",
    "\n",
    "np.random.seed(42)\n",
    "np.set_printoptions(precision=3)"
   ],
   "metadata": {
    "collapsed": false,
    "pycharm": {
     "name": "#%%\n"
    }
   }
  },
  {
   "cell_type": "code",
   "execution_count": 2,
   "outputs": [],
   "source": [
    "def plot_scores(fscores, gscores, lambda_vals, reg_val):\n",
    "    def plot_ax(ax, f, g, total):\n",
    "        ax.plot(total, color='black', linewidth=3, label='total')\n",
    "        ax.plot(f, color='cyan', linewidth=1.5, label='f')\n",
    "        ax.plot(g, color='yellow', linewidth=1.5, label='g')\n",
    "        ax.legend()\n",
    "\n",
    "    total_score = fscores + lambda_vals * gscores\n",
    "    fig, axs = plt.subplots(1, 2, figsize=(20, 6))\n",
    "    fig.suptitle(f'lambda = {reg_val}', fontsize=25)\n",
    "\n",
    "    axs[0].set_yscale('log')\n",
    "    plot_ax(axs[0], fscores, gscores, total_score)\n",
    "    axs[0].set_title('log scale', fontsize=16)\n",
    "\n",
    "    axs[1].set_yscale('log')\n",
    "    plot_ax(axs[1], fscores - fscores[-1], gscores - gscores[-1], total_score - total_score[-1])\n",
    "    axs[1].set_title('log(score - score*)', fontsize=16)\n",
    "\n",
    "def plot_matrices(W, H, img_size, comparison_idxs):\n",
    "    fig, axs = plt.subplots(2, len(comparison_idxs), figsize=(20, 10), sharey='row')\n",
    "\n",
    "    for i, idx in enumerate(comparison_idxs):\n",
    "        axs[0, i].plot(W[:, idx] / np.dot(W[:, idx], W[:, idx]))\n",
    "        axs[0, i].set_title(f'W({idx+1})')\n",
    "\n",
    "        h_idx_3d = H[idx, :].reshape(img_size, order='F')\n",
    "        axs[1, i].plot(h_idx_3d)\n",
    "        axs[1, i].set_title(f'H({idx+1})')\n",
    "\n",
    "def plot_images(H, img_size, comparison_idxs):\n",
    "    fig, axs = plt.subplots(1, len(comparison_idxs), figsize=(20, 10))\n",
    "\n",
    "    for i, idx in enumerate(comparison_idxs):\n",
    "        h_idx_3d = H[idx, :].reshape(img_size, order='F')\n",
    "\n",
    "        axs[i].imshow(h_idx_3d)\n",
    "        img = axs[i].imshow(h_idx_3d, cmap='gray')\n",
    "        divider = make_axes_locatable(axs[i])\n",
    "\n",
    "        cax = divider.append_axes('right', size='5%', pad=0.1)\n",
    "        fig.colorbar(img, cax=cax, orientation='vertical')\n",
    "        axs[i].set_title(f'H({idx+1})')"
   ],
   "metadata": {
    "collapsed": false,
    "pycharm": {
     "name": "#%%\n"
    }
   }
  },
  {
   "cell_type": "code",
   "execution_count": 6,
   "outputs": [],
   "source": [
    "max_iter = 3000"
   ],
   "metadata": {
    "collapsed": false,
    "pycharm": {
     "name": "#%%\n"
    }
   }
  },
  {
   "cell_type": "code",
   "execution_count": 3,
   "outputs": [],
   "source": [
    "X = np.load('../datasets/urban_small.npz')['X']\n",
    "rank = 6\n",
    "\n",
    "data = np.load(f'../saved_models/urban_small_r{rank}_ini.npz')\n",
    "ini_W = data['W']\n",
    "ini_H = data['H']\n",
    "save_filepath = '../saved_models/urban_small_tuning/r{}_l{}.npz'\n",
    "\n",
    "# reg_vals = [0.1, 0.5, 1, 2, 5, 10, 20, 50, 100, 1000]\n",
    "# reg_vals = [1e-5, 1e-4, 0.001, 0.01, 0.25, 0.75, 1.25, 1.5, 1.75, 2.5, 3, 3.5, 4.5, 8, 1e4]\n",
    "reg_vals = [1e-7, 1e-6]"
   ],
   "metadata": {
    "collapsed": false,
    "pycharm": {
     "name": "#%%\n"
    }
   }
  },
  {
   "cell_type": "code",
   "execution_count": null,
   "outputs": [],
   "source": [
    "for reg_val in reg_vals:\n",
    "    Wb, Hb, Wl, Hl, fscores, gscores, lambda_vals = nmf_son(X, ini_W.copy(), ini_H.copy(), _lambda=reg_val, itermax=max_iter)\n",
    "    with open(save_filepath.format(rank, reg_val), 'wb') as fout:\n",
    "        np.savez_compressed(fout, Wb=Wb, Hb=Hb, Wl=Wl, Hl=Hl, fscores=fscores, gscores=gscores, lambda_vals=lambda_vals)\n",
    "        print(reg_val, 'done')"
   ],
   "metadata": {
    "collapsed": false,
    "pycharm": {
     "name": "#%%\n",
     "is_executing": true
    }
   }
  },
  {
   "cell_type": "code",
   "execution_count": 4,
   "outputs": [],
   "source": [
    "# X = np.load('../datasets/jasper_full.npz')['X']\n",
    "# rank = 8\n",
    "#\n",
    "# data = np.load(f'../saved_models/jasper_full_r{rank}_ini.npz')\n",
    "# ini_W = data['W']\n",
    "# ini_H = data['H']\n",
    "# save_filepath = '../saved_models/jasper_tuning/r{}_l{}.npz'\n",
    "#\n",
    "# reg_vals = [1e-6, 1e-5, 1e-4, 0.001, 0.001, 0.01, 0.1, 0.5, 2, 100, 1000]"
   ],
   "metadata": {
    "collapsed": false,
    "pycharm": {
     "name": "#%%\n"
    }
   }
  },
  {
   "cell_type": "code",
   "execution_count": null,
   "outputs": [],
   "source": [
    "for reg_val in reg_vals:\n",
    "    Wb, Hb, Wl, Hl, fscores, gscores, lambda_vals = nmf_son(X, ini_W.copy(), ini_H.copy(), _lambda=reg_val, itermax=max_iter)\n",
    "    with open(save_filepath.format(rank, reg_val), 'wb') as fout:\n",
    "        np.savez_compressed(fout, Wb=Wb, Hb=Hb, Wl=Wl, Hl=Hl, fscores=fscores, gscores=gscores, lambda_vals=lambda_vals)\n",
    "        print(reg_val, 'done')"
   ],
   "metadata": {
    "collapsed": false,
    "pycharm": {
     "name": "#%%\n"
    }
   }
  },
  {
   "cell_type": "code",
   "execution_count": 5,
   "outputs": [],
   "source": [
    "# X = np.load('../datasets/urban_full.npz')['X']\n",
    "# rank = 10\n",
    "#\n",
    "# data = np.load(f'../saved_models/urban/urban_full_r{rank}_ini.npz')\n",
    "# ini_W = data['W']\n",
    "# ini_H = data['H']\n",
    "# save_filepath = '../saved_models/urban_tuning/r{}_l{}.npz'\n",
    "#\n",
    "# reg_vals = [0.01, 0.1, 1, 10, 100, 1000]"
   ],
   "metadata": {
    "collapsed": false,
    "pycharm": {
     "name": "#%%\n"
    }
   }
  },
  {
   "cell_type": "code",
   "execution_count": null,
   "outputs": [],
   "source": [
    "# comp_idxs = range(rank)\n",
    "# img_size = (20, 10)"
   ],
   "metadata": {
    "collapsed": false,
    "pycharm": {
     "name": "#%%\n",
     "is_executing": true
    }
   }
  },
  {
   "cell_type": "code",
   "execution_count": null,
   "outputs": [],
   "source": [
    "# for reg_val in reg_vals:\n",
    "#     Wb, Hb, Wl, Hl, fscores, gscores, lambda_vals = load_results(save_filepath.format(rank, reg_val))\n",
    "#     plot_scores(fscores, gscores, lambda_vals, reg_val)\n",
    "#     plot_matrices(Wl, Hl, img_size, comp_idxs)\n",
    "#     plot_images(Hl, img_size, comp_idxs)"
   ],
   "metadata": {
    "collapsed": false,
    "pycharm": {
     "name": "#%%\n",
     "is_executing": true
    }
   }
  }
 ],
 "metadata": {
  "kernelspec": {
   "display_name": "Python 3",
   "language": "python",
   "name": "python3"
  },
  "language_info": {
   "codemirror_mode": {
    "name": "ipython",
    "version": 2
   },
   "file_extension": ".py",
   "mimetype": "text/x-python",
   "name": "python",
   "nbconvert_exporter": "python",
   "pygments_lexer": "ipython2",
   "version": "2.7.6"
  }
 },
 "nbformat": 4,
 "nbformat_minor": 0
}