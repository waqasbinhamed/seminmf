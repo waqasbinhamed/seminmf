{
 "cells": [
  {
   "cell_type": "code",
   "execution_count": null,
   "metadata": {
    "collapsed": false,
    "pycharm": {
     "name": "#%%\n"
    }
   },
   "outputs": [],
   "source": [
    "import math\n",
    "import math\n",
    "import numpy as np\n",
    "import scipy.io\n",
    "import matplotlib.pyplot as plt\n",
    "from simple import nmf_son\n",
    "from sklearn.decomposition import NMF\n",
    "from mpl_toolkits.axes_grid1 import make_axes_locatable\n",
    "\n",
    "\n",
    "np.random.seed(42)\n",
    "np.set_printoptions(precision=3)"
   ]
  },
  {
   "cell_type": "code",
   "execution_count": null,
   "metadata": {
    "collapsed": false,
    "pycharm": {
     "name": "#%%\n"
    }
   },
   "outputs": [],
   "source": [
    "def normalized_similarity(W_ins):\n",
    "    r = W_ins.shape[1]\n",
    "    res = np.ones(shape=(r, r)) * -1\n",
    "    for i in range(r):\n",
    "        for j in range(r):\n",
    "            res[i, j] = np.linalg.norm(W_ins[:, i] - W_ins[:, j])\n",
    "        res[i, :] = res[i, :] / sum(res[i, :])\n",
    "    return res\n",
    "\n",
    "def plot_scores(fscores, gscores, lambda_vals):\n",
    "    def plot_ax(ax, f, g, total):\n",
    "        ax.plot(total, color='black', linewidth=3, label='total')\n",
    "        ax.plot(f, label='f')\n",
    "        ax.plot(g, label='g')\n",
    "        ax.legend()\n",
    "\n",
    "    total_score = fscores + lambda_vals * gscores\n",
    "    fig, axs = plt.subplots(1, 3, figsize=(20, 6))\n",
    "\n",
    "    plot_ax(axs[0], fscores, gscores, total_score)\n",
    "\n",
    "    axs[1].set_yscale('log')\n",
    "    plot_ax(axs[1], fscores, gscores, total_score)\n",
    "\n",
    "    axs[2].set_yscale('log')\n",
    "    plot_ax(axs[2], fscores - fscores[-1], gscores - gscores[-1], total_score - total_score[-1])"
   ]
  },
  {
   "cell_type": "code",
   "execution_count": null,
   "metadata": {
    "collapsed": false,
    "pycharm": {
     "name": "#%%\n"
    }
   },
   "outputs": [],
   "source": [
    "mat = scipy.io.loadmat('urban/Urban.mat')\n",
    "X = mat['X']\n",
    "\n",
    "m, n = X.shape # (162, 94249)\n",
    "num_col = int(math.sqrt(n)) # 307\n",
    "\n",
    "X3d = X.reshape(m, num_col, num_col, order='F')"
   ]
  },
  {
   "cell_type": "code",
   "execution_count": null,
   "metadata": {
    "collapsed": false,
    "pycharm": {
     "name": "#%%\n"
    }
   },
   "outputs": [],
   "source": [
    "wavelength = 80\n",
    "plt.imshow(X3d[wavelength, :, :], cmap='gray')\n",
    "plt.colorbar()"
   ]
  },
  {
   "cell_type": "code",
   "execution_count": null,
   "metadata": {
    "collapsed": false,
    "pycharm": {
     "name": "#%%\n"
    }
   },
   "outputs": [],
   "source": [
    "# img = X3d[wavelength, :, :].copy()\n",
    "# img[80: 120, 190: 230] = 1000 # roof\n",
    "# plt.imshow(img, cmap='gray')\n",
    "# plt.colorbar()"
   ]
  },
  {
   "cell_type": "code",
   "execution_count": null,
   "metadata": {
    "collapsed": false,
    "pycharm": {
     "name": "#%%\n"
    }
   },
   "outputs": [],
   "source": [
    "# medX3d = X3d[:, 80: 120, 190: 230] # (162, 40, 40)\n",
    "# medX = medX3d.reshape(m, -1, order='F') # (162, 1600)\n",
    "# with open(f'urban/2022_11_19/med/X.npz', 'wb') as fout:\n",
    "#     np.savez_compressed(fout, X=medX)"
   ]
  },
  {
   "cell_type": "code",
   "execution_count": null,
   "metadata": {
    "collapsed": false,
    "pycharm": {
     "name": "#%%\n"
    }
   },
   "outputs": [],
   "source": [
    "m, n = X.shape\n",
    "rank = 10\n",
    "\n",
    "W_ini = np.random.rand(m, rank)\n",
    "H_ini = np.random.rand(rank, n)\n",
    "with open(f'urban/2022_11_19/full/r{rank}_ini.npz', 'wb') as fout:\n",
    "    np.savez_compressed(fout, W=W_ini, H=H_ini)"
   ]
  },
  {
   "cell_type": "code",
   "execution_count": null,
   "metadata": {
    "collapsed": false,
    "pycharm": {
     "name": "#%%\n"
    }
   },
   "outputs": [],
   "source": [
    "it_ckpts = [100, 200, 500, 1000, 2000]\n",
    "save_filepath = 'urban/2022_11_19/full/r{}-l{}-it{}.npz'\n",
    "reg_val = 10\n",
    "\n",
    "\n",
    "Wb, Hb, Wl, Hl, fscores, gscores, lambda_vals = nmf_son(X, W_ini.copy(), H_ini.copy(), _lambda=reg_val, itermax=it_ckpts[0], scale_lambda=True)\n",
    "with open(save_filepath.format(rank, reg_val, it_ckpts[0]), 'wb') as fout:\n",
    "    np.savez_compressed(fout, Wb=Wb, Hb=Hb, Wl=Wl, Hl=Hl, fscores=fscores, gscores=gscores, lambda_vals=lambda_vals)\n",
    "\n",
    "for k in range(1, len(it_ckpts)):\n",
    "    Wb, Hb, Wl, Hl, new_fscores, new_gscores, new_lambda_vals = nmf_son(X, Wl, Hl, _lambda=reg_val, itermax=it_ckpts[k] - it_ckpts[k-1], scale_lambda=True)\n",
    "\n",
    "    fscores = np.append(fscores[:-1], new_fscores)\n",
    "    gscores = np.append(gscores[:-1], new_gscores)\n",
    "    lambda_vals = np.append(lambda_vals[:-1], new_lambda_vals)\n",
    "\n",
    "    with open(save_filepath.format(rank, reg_val, it_ckpts[k]), 'wb') as fout:\n",
    "        np.savez_compressed(fout, Wb=Wb, Hb=Hb, Wl=Wl, Hl=Hl, fscores=fscores, gscores=gscores, lambda_vals=lambda_vals)\n",
    "    print(rank, reg_val, it_ckpts[k], 'complete')"
   ]
  },
  {
   "cell_type": "code",
   "execution_count": null,
   "metadata": {
    "collapsed": false,
    "pycharm": {
     "name": "#%%\n"
    }
   },
   "outputs": [],
   "source": [
    "plot_scores(fscores, gscores, lambda_vals)"
   ]
  },
  {
   "cell_type": "code",
   "execution_count": null,
   "metadata": {
    "collapsed": false,
    "pycharm": {
     "name": "#%%\n"
    }
   },
   "outputs": [],
   "source": [
    "normalized_similarity(Wl)"
   ]
  },
  {
   "cell_type": "code",
   "execution_count": null,
   "metadata": {
    "collapsed": false,
    "pycharm": {
     "name": "#%%\n"
    }
   },
   "outputs": [],
   "source": []
  }
 ],
 "metadata": {
  "kernelspec": {
   "display_name": "Python 3",
   "language": "python",
   "name": "python3"
  },
  "language_info": {
   "codemirror_mode": {
    "name": "ipython",
    "version": 2
   },
   "file_extension": ".py",
   "mimetype": "text/x-python",
   "name": "python",
   "nbconvert_exporter": "python",
   "pygments_lexer": "ipython2",
   "version": "2.7.6"
  }
 },
 "nbformat": 4,
 "nbformat_minor": 0
}