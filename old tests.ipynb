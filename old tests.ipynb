{
 "cells": [
  {
   "cell_type": "code",
   "execution_count": null,
   "outputs": [],
   "source": [
    "import time\n",
    "import math\n",
    "import numpy as np\n",
    "import scipy.io\n",
    "import matplotlib.pyplot as plt\n",
    "from main import nmf\n",
    "np.random.seed(42)\n",
    "np.set_printoptions(precision=3)"
   ],
   "metadata": {
    "collapsed": false,
    "pycharm": {
     "name": "#%%\n"
    }
   }
  },
  {
   "cell_type": "code",
   "execution_count": null,
   "metadata": {
    "pycharm": {
     "name": "#%%\n"
    }
   },
   "outputs": [],
   "source": [
    "%matplotlib inline"
   ]
  },
  {
   "cell_type": "code",
   "execution_count": null,
   "metadata": {
    "pycharm": {
     "name": "#%%\n"
    }
   },
   "outputs": [],
   "source": [
    "def zeros_mask(arr):\n",
    "    m, n = arr.shape\n",
    "    indices = np.random.choice(m * n, replace=False, size=int(m * n * 0.2))\n",
    "    arr[np.unravel_index(indices, (m, n))] = 0\n",
    "    return arr\n",
    "\n",
    "def plot_scores(fscores, gscores, _lambda, log_scale=True):\n",
    "    fig = plt.figure()\n",
    "    ax = fig.add_subplot(111)\n",
    "    if log_scale:\n",
    "        ax.set_yscale('log')\n",
    "    ax.plot(fscores)\n",
    "    ax.plot(gscores)\n",
    "    ax.plot(fscores + _lambda * gscores)\n",
    "    ax.legend(['f', 'g', 'total'])\n",
    "\n",
    "def normalized_similarity(W_ins):\n",
    "    r = W_ins.shape[1]\n",
    "    res = np.ones(shape=(r, r)) * -1\n",
    "    for i in range(r):\n",
    "        for j in range(r):\n",
    "            res[i, j] = np.linalg.norm(W_ins[:, i] - W_ins[:, j])\n",
    "        res[i, :] = res[i, :] / sum(res[i, :])\n",
    "    return res\n",
    "\n",
    "def load_results(filename):\n",
    "    data = np.load(filename)\n",
    "    return data['Wb'], data['Hb'], data['Wl'], data['Hl'], data['fscores'], data['gscores'], data['_lambda']"
   ]
  },
  {
   "cell_type": "code",
   "execution_count": null,
   "metadata": {
    "pycharm": {
     "name": "#%%\n"
    }
   },
   "outputs": [],
   "source": [
    "mat = scipy.io.loadmat('urban/Urban.mat')\n",
    "X = mat['X']\n",
    "with open(f'urban/fullX.npz', 'wb') as fout:\n",
    "    np.savez_compressed(fout, X=X)"
   ]
  },
  {
   "cell_type": "code",
   "execution_count": null,
   "metadata": {
    "pycharm": {
     "name": "#%%\n"
    }
   },
   "outputs": [],
   "source": [
    "m, n = X.shape # (162, 94249)\n",
    "num_col = int(math.sqrt(n)) # 307"
   ]
  },
  {
   "cell_type": "code",
   "execution_count": null,
   "metadata": {
    "pycharm": {
     "name": "#%%\n"
    }
   },
   "outputs": [],
   "source": [
    "X3d = X.reshape(m, num_col, num_col, order='F') # order specified to match MATLAB"
   ]
  },
  {
   "cell_type": "code",
   "execution_count": null,
   "metadata": {
    "pycharm": {
     "name": "#%%\n"
    }
   },
   "outputs": [],
   "source": [
    "wavelength = 100\n",
    "plt.imshow(X3d[wavelength, :, :], cmap='gray')\n",
    "plt.colorbar()"
   ]
  },
  {
   "cell_type": "markdown",
   "metadata": {
    "collapsed": false,
    "pycharm": {
     "name": "#%% md\n"
    }
   },
   "source": [
    "### Small"
   ]
  },
  {
   "cell_type": "code",
   "execution_count": null,
   "metadata": {
    "collapsed": false,
    "pycharm": {
     "name": "#%%\n"
    }
   },
   "outputs": [],
   "source": [
    "img = X3d[wavelength, :, :].copy()\n",
    "# img[285: 295, 120: 130] = 1000 # trees\n",
    "img[200: 210, 265: 275] = 1000 # grass\n",
    "img[110: 120, 200: 210] = 1000 # asphalt\n",
    "plt.imshow(img, cmap='gray')\n",
    "plt.colorbar()"
   ]
  },
  {
   "cell_type": "code",
   "execution_count": null,
   "metadata": {
    "collapsed": false,
    "pycharm": {
     "name": "#%%\n"
    }
   },
   "outputs": [],
   "source": [
    "# trees3d = X3d[:, 285: 295, 120: 130] # (162, 10, 10)\n",
    "grass3d = X3d[:, 200: 210, 265: 275] # (162, 10, 10)\n",
    "asphalt3d = X3d[:, 110: 120, 200: 210] # (162, 10, 10)\n",
    "smallX3d = np.hstack([grass3d, asphalt3d]) # (162, 20, 10)"
   ]
  },
  {
   "cell_type": "code",
   "execution_count": null,
   "metadata": {
    "collapsed": false,
    "pycharm": {
     "name": "#%%\n"
    }
   },
   "outputs": [],
   "source": [
    "plt.imshow(smallX3d[wavelength, :, :], cmap='gray')\n",
    "plt.colorbar()"
   ]
  },
  {
   "cell_type": "code",
   "execution_count": null,
   "metadata": {
    "collapsed": false,
    "pycharm": {
     "name": "#%%\n"
    }
   },
   "outputs": [],
   "source": [
    "smallX = smallX3d.reshape(m, -1, order='F') # (162, 200)\n",
    "with open(f'urban/smallX.npz', 'wb') as fout:\n",
    "    np.savez_compressed(fout, X=smallX)"
   ]
  },
  {
   "cell_type": "code",
   "execution_count": null,
   "outputs": [],
   "source": [
    "rank = 4\n",
    "_lambda = 2\n",
    "iterations = 1000"
   ],
   "metadata": {
    "collapsed": false,
    "pycharm": {
     "name": "#%%\n"
    }
   }
  },
  {
   "cell_type": "code",
   "execution_count": null,
   "outputs": [],
   "source": [
    "from sklearn.decomposition import NMF\n",
    "model = NMF(n_components=rank, init='random', random_state=0)\n",
    "vanillaW = model.fit_transform(smallX)\n",
    "vanillaH = model.components_"
   ],
   "metadata": {
    "collapsed": false,
    "pycharm": {
     "name": "#%%\n"
    }
   }
  },
  {
   "cell_type": "code",
   "execution_count": null,
   "outputs": [],
   "source": [
    "m, n = smallX.shape\n",
    "W_ini = np.random.rand(m, rank)\n",
    "H_ini = np.random.rand(rank, n)\n",
    "\n",
    "Wb, Hb, Wl, Hl, fscores, gscores, lambda_vals = nmf(smallX, W_ini.copy(), H_ini.copy(), _lambda=_lambda, itermax=iterations, scale_lambda=True, verbose=True)"
   ],
   "metadata": {
    "collapsed": false,
    "pycharm": {
     "name": "#%%\n"
    }
   }
  },
  {
   "cell_type": "code",
   "execution_count": null,
   "outputs": [],
   "source": [
    "fig = plt.figure()\n",
    "ax = fig.add_subplot(111)\n",
    "ax.set_yscale('log')\n",
    "ax.plot(fscores)\n",
    "ax.plot(gscores)\n",
    "ax.plot(fscores + lambda_vals * gscores)\n",
    "ax.legend(['f', 'g', 'total'])"
   ],
   "metadata": {
    "collapsed": false,
    "pycharm": {
     "name": "#%%\n"
    }
   }
  },
  {
   "cell_type": "code",
   "execution_count": null,
   "outputs": [],
   "source": [
    "normalized_similarity(Wl)"
   ],
   "metadata": {
    "collapsed": false,
    "pycharm": {
     "name": "#%%\n"
    }
   }
  },
  {
   "cell_type": "code",
   "execution_count": null,
   "outputs": [],
   "source": [
    "plt.plot(Wl)"
   ],
   "metadata": {
    "collapsed": false,
    "pycharm": {
     "name": "#%%\n"
    }
   }
  },
  {
   "cell_type": "markdown",
   "metadata": {
    "collapsed": false,
    "pycharm": {
     "name": "#%% md\n"
    }
   },
   "source": [
    "### Medium"
   ]
  },
  {
   "cell_type": "code",
   "execution_count": null,
   "metadata": {
    "collapsed": false,
    "pycharm": {
     "name": "#%%\n"
    }
   },
   "outputs": [],
   "source": [
    "img = X3d[wavelength, :, :].copy()\n",
    "img[240: 290, 180: 230] = 1000 # trees\n",
    "plt.imshow(img, cmap='gray')\n",
    "plt.colorbar()"
   ]
  },
  {
   "cell_type": "code",
   "execution_count": null,
   "metadata": {
    "collapsed": false,
    "pycharm": {
     "name": "#%%\n"
    }
   },
   "outputs": [],
   "source": [
    "medX3d = X3d[:, 240: 290, 180: 230] # (162, 50, 50)\n",
    "medX = medX3d.reshape(m, -1, order='F') # (162, 2500)\n",
    "with open(f'urban/medX.npz', 'wb') as fout:\n",
    "    np.savez_compressed(fout, X=medX)"
   ]
  },
  {
   "cell_type": "markdown",
   "source": [
    "### Running tests"
   ],
   "metadata": {
    "collapsed": false,
    "pycharm": {
     "name": "#%% md\n"
    }
   }
  },
  {
   "cell_type": "code",
   "execution_count": null,
   "outputs": [],
   "source": [
    "def run_nmf_and_save(size, iterations, ranks, _lambdas):\n",
    "    X = np.load(f'urban/{size}X.npz')['X']\n",
    "    m, n = X.shape\n",
    "\n",
    "    for rank in ranks:\n",
    "        W_ini = zeros_mask(np.random.rand(m, rank))\n",
    "        H_ini = zeros_mask(np.random.rand(rank, n))\n",
    "        with open(f'urban/{size}_ini_r{rank}.npz', 'wb') as fout:\n",
    "            np.savez_compressed(fout, W_ini=W_ini, H_ini=H_ini)\n",
    "\n",
    "        for _lambda in _lambdas:\n",
    "            start_time = time.time()\n",
    "            Wb, Hb, Wl, Hl, fscores, gscores = nmf(X, W_ini.copy(), H_ini.copy(), _lambda=_lambda, itermax=iterations)\n",
    "            runtime_min = (time.time() - start_time) / 60\n",
    "            with open(f'urban/results/{size}_r{rank}_it{iterations}_l{str(_lambda).replace(\".\", \"-\")}.npz', 'wb') as fout:\n",
    "                np.savez_compressed(fout, Wb=Wb, Hb=Hb, Wl=Wl, Hl=Hl, fscores=fscores, gscores=gscores, _lambda=_lambda)\n",
    "            print(f'NMF for size={size}, rank={rank}, lambda={_lambda} in {runtime_min} minutes.')"
   ],
   "metadata": {
    "collapsed": false,
    "pycharm": {
     "name": "#%%\n"
    }
   }
  },
  {
   "cell_type": "code",
   "execution_count": null,
   "outputs": [],
   "source": [
    "# size = 'small'\n",
    "# iterations = 1000\n",
    "# ranks = [6, 8]\n",
    "# _lambdas = [0.25, 0.5, 1, 2]\n",
    "#\n",
    "# run_nmf_and_save(size, iterations, ranks, _lambdas)"
   ],
   "metadata": {
    "collapsed": false,
    "pycharm": {
     "name": "#%%\n"
    }
   }
  },
  {
   "cell_type": "code",
   "execution_count": null,
   "outputs": [],
   "source": [
    "# size = 'med'\n",
    "# iterations = 1000\n",
    "# ranks = [8, 10]\n",
    "# _lambdas = [0.25, 0.5, 1]\n",
    "#\n",
    "# run_nmf_and_save(size, iterations, ranks, _lambdas)"
   ],
   "metadata": {
    "collapsed": false,
    "pycharm": {
     "name": "#%%\n"
    }
   }
  },
  {
   "cell_type": "code",
   "execution_count": null,
   "outputs": [],
   "source": [
    "# size = 'full'\n",
    "# iterations = 500\n",
    "# ranks = [8, 10]\n",
    "# _lambdas = [0.25, 0.5, 1]\n",
    "#\n",
    "# run_nmf_and_save(size, iterations, ranks, _lambdas)"
   ],
   "metadata": {
    "collapsed": false,
    "pycharm": {
     "name": "#%%\n"
    }
   }
  },
  {
   "cell_type": "code",
   "execution_count": null,
   "outputs": [],
   "source": [
    "\n",
    "\n",
    "plt.plot(Wl[:, 0])\n",
    "plt.plot(Wl[:, 1])\n",
    "plt.plot(Wl[:, 2])\n"
   ],
   "metadata": {
    "collapsed": false,
    "pycharm": {
     "name": "#%%\n"
    }
   }
  },
  {
   "cell_type": "code",
   "execution_count": null,
   "outputs": [],
   "source": [
    "fig, axs = plt.subplots(2, rank, figsize=(20, 6))\n",
    "cnt = 0\n",
    "for i in range(1):\n",
    "    for j in range(4):\n",
    "        axs[i, j].plot(Wl[:, cnt] / np.dot(Wl[:, cnt], Wl[:, cnt]))\n",
    "        cnt += 1\n"
   ],
   "metadata": {
    "collapsed": false,
    "pycharm": {
     "name": "#%%\n"
    }
   }
  },
  {
   "cell_type": "code",
   "execution_count": null,
   "outputs": [],
   "source": [
    "Wb, Hb, Wl, Hl, fscores, gscores, _lambda = load_results('urban/results/med_r10_it1000_l1.npz')\n",
    "plot_scores(fscores, gscores, _lambda, log_scale=True)"
   ],
   "metadata": {
    "collapsed": false,
    "pycharm": {
     "name": "#%%\n"
    }
   }
  },
  {
   "cell_type": "code",
   "execution_count": null,
   "outputs": [],
   "source": [
    "for row in normalized_similarity(Wl):\n",
    "    print(row)"
   ],
   "metadata": {
    "collapsed": false,
    "pycharm": {
     "name": "#%%\n"
    }
   }
  },
  {
   "cell_type": "code",
   "execution_count": null,
   "outputs": [],
   "source": [
    "plt.imshow(Hl[0, :].reshape(20, 10, order='F'), cmap='gray')\n",
    "plt.colorbar()"
   ],
   "metadata": {
    "collapsed": false,
    "pycharm": {
     "name": "#%%\n"
    }
   }
  },
  {
   "cell_type": "code",
   "execution_count": null,
   "outputs": [],
   "source": [
    "plt.imshow(Hl[1, :].reshape(20, 10, order='F'), cmap='gray')\n",
    "plt.colorbar()"
   ],
   "metadata": {
    "collapsed": false,
    "pycharm": {
     "name": "#%%\n"
    }
   }
  },
  {
   "cell_type": "code",
   "execution_count": null,
   "outputs": [],
   "source": [],
   "metadata": {
    "collapsed": false,
    "pycharm": {
     "name": "#%%\n"
    }
   }
  }
 ],
 "metadata": {
  "kernelspec": {
   "display_name": "Python 3.9.13 ('numf')",
   "language": "python",
   "name": "python3"
  },
  "language_info": {
   "codemirror_mode": {
    "name": "ipython",
    "version": 3
   },
   "file_extension": ".py",
   "mimetype": "text/x-python",
   "name": "python",
   "nbconvert_exporter": "python",
   "pygments_lexer": "ipython3",
   "version": "3.9.13"
  },
  "vscode": {
   "interpreter": {
    "hash": "778e3d384db463ad78c4074b02d92d21632eac47814710bba018fe76f13f480b"
   }
  }
 },
 "nbformat": 4,
 "nbformat_minor": 1
}