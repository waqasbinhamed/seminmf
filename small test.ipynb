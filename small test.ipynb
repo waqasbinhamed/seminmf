{
 "cells": [
  {
   "cell_type": "code",
   "execution_count": 26,
   "metadata": {
    "collapsed": true,
    "pycharm": {
     "name": "#%%\n"
    }
   },
   "outputs": [],
   "source": [
    "import math\n",
    "import numpy as np\n",
    "import scipy.io\n",
    "import matplotlib.pyplot as plt\n",
    "from simple import nmf_son\n",
    "from sklearn.decomposition import NMF\n",
    "\n",
    "\n",
    "np.random.seed(42)\n",
    "np.set_printoptions(precision=3)"
   ]
  },
  {
   "cell_type": "code",
   "execution_count": 27,
   "outputs": [],
   "source": [
    "def plot_scores(fscores, gscores, _lambda, log_scale=True):\n",
    "    fig = plt.figure()\n",
    "    ax = fig.add_subplot(111)\n",
    "    if log_scale:\n",
    "        ax.set_yscale('log')\n",
    "    ax.plot(fscores)\n",
    "    ax.plot(gscores)\n",
    "    ax.plot(fscores + _lambda * gscores)\n",
    "    ax.legend(['f', 'g', 'total'])\n",
    "\n",
    "def normalized_similarity(W_ins):\n",
    "    r = W_ins.shape[1]\n",
    "    res = np.ones(shape=(r, r)) * -1\n",
    "    for i in range(r):\n",
    "        for j in range(r):\n",
    "            res[i, j] = np.linalg.norm(W_ins[:, i] - W_ins[:, j])\n",
    "        res[i, :] = res[i, :] / sum(res[i, :])\n",
    "    return res"
   ],
   "metadata": {
    "collapsed": false,
    "pycharm": {
     "name": "#%%\n"
    }
   }
  },
  {
   "cell_type": "code",
   "execution_count": 28,
   "outputs": [],
   "source": [
    "# mat = scipy.io.loadmat('urban/Urban.mat')\n",
    "# X = mat['X']"
   ],
   "metadata": {
    "collapsed": false,
    "pycharm": {
     "name": "#%%\n"
    }
   }
  },
  {
   "cell_type": "code",
   "execution_count": 29,
   "outputs": [],
   "source": [
    "# m, n = X.shape # (162, 94249)\n",
    "# num_col = int(math.sqrt(n)) # 307"
   ],
   "metadata": {
    "collapsed": false,
    "pycharm": {
     "name": "#%%\n"
    }
   }
  },
  {
   "cell_type": "code",
   "execution_count": 30,
   "outputs": [],
   "source": [
    "# X3d = X.reshape(m, num_col, num_col, order='F')"
   ],
   "metadata": {
    "collapsed": false,
    "pycharm": {
     "name": "#%%\n"
    }
   }
  },
  {
   "cell_type": "code",
   "execution_count": 31,
   "outputs": [],
   "source": [
    "# wavelength = 80\n",
    "# plt.imshow(X3d[wavelength, :, :], cmap='gray')\n",
    "# plt.colorbar()"
   ],
   "metadata": {
    "collapsed": false,
    "pycharm": {
     "name": "#%%\n"
    }
   }
  },
  {
   "cell_type": "code",
   "execution_count": 32,
   "outputs": [],
   "source": [
    "# img = X3d[wavelength, :, :].copy()\n",
    "# img[280: 290, 120: 130] = 1000 # trees\n",
    "# img[110: 120, 200: 210] = 1000 # roof\n",
    "# plt.imshow(img, cmap='gray')\n",
    "# plt.colorbar()"
   ],
   "metadata": {
    "collapsed": false,
    "pycharm": {
     "name": "#%%\n"
    }
   }
  },
  {
   "cell_type": "code",
   "execution_count": 33,
   "outputs": [],
   "source": [
    "# trees3d = X3d[:, 280: 290, 120: 130] # (162, 10, 10)\n",
    "# roof3d = X3d[:, 110: 120, 200: 210] # (162, 10, 10)\n",
    "# smallX3d = np.hstack([trees3d, roof3d]) # (162, 20, 10)"
   ],
   "metadata": {
    "collapsed": false,
    "pycharm": {
     "name": "#%%\n"
    }
   }
  },
  {
   "cell_type": "code",
   "execution_count": 34,
   "outputs": [],
   "source": [
    "# smallX = smallX3d.reshape(m, -1, order='F') # (162, 200)\n",
    "# with open(f'urban/results/new/small-x.npz', 'wb') as fout:\n",
    "#     np.savez_compressed(fout, X=smallX)"
   ],
   "metadata": {
    "collapsed": false,
    "pycharm": {
     "name": "#%%\n"
    }
   }
  },
  {
   "cell_type": "code",
   "execution_count": 35,
   "outputs": [],
   "source": [
    "# rank = 4\n",
    "# m, n = smallX.shape\n",
    "#\n",
    "# iniW = np.random.rand(m, rank)\n",
    "# iniH = np.random.rand(rank, n)\n",
    "# with open(f'urban/results/new/small-ini-mat-r{rank}', 'wb') as fout:\n",
    "#     np.savez_compressed(fout, W=iniW, H=iniH)"
   ],
   "metadata": {
    "collapsed": false,
    "pycharm": {
     "name": "#%%\n"
    }
   }
  },
  {
   "cell_type": "code",
   "execution_count": 36,
   "outputs": [],
   "source": [
    "# model = NMF(n_components=rank, init='random', random_state=42, max_iter=1000)\n",
    "# vanillaW = model.fit_transform(smallX)\n",
    "# vanillaH = model.components_\n",
    "# with open(f'urban/results/new/nmf-it1000-ini-mat-r{rank}', 'wb') as fout:\n",
    "#     np.savez_compressed(fout, W=vanillaW, H=vanillaH)"
   ],
   "metadata": {
    "collapsed": false,
    "pycharm": {
     "name": "#%%\n"
    }
   }
  },
  {
   "cell_type": "code",
   "execution_count": 37,
   "outputs": [],
   "source": [
    "# plt.plot(vanillaW)"
   ],
   "metadata": {
    "collapsed": false,
    "pycharm": {
     "name": "#%%\n"
    }
   }
  },
  {
   "cell_type": "code",
   "execution_count": 38,
   "outputs": [],
   "source": [
    "smallX = np.load(f'urban/results/new/small-x.npz')['X']\n",
    "rank = 4\n",
    "m, n = smallX.shape\n",
    "\n",
    "ini_mats = np.load(f'urban/results/new/small-ini-mat-r{rank}')\n",
    "iniW = ini_mats['W']\n",
    "iniH = ini_mats['H']\n",
    "\n",
    "nmf_mats = np.load(f'urban/results/new/nmf-it1000-ini-mat-r{rank}')\n",
    "nmfW = nmf_mats['W']\n",
    "nmfH = nmf_mats['H']"
   ],
   "metadata": {
    "collapsed": false,
    "pycharm": {
     "name": "#%%\n"
    }
   }
  },
  {
   "cell_type": "code",
   "execution_count": 48,
   "outputs": [
    {
     "name": "stdout",
     "output_type": "stream",
     "text": [
      "done with reg=0.5 and it=2\n",
      "done with reg=2 and it=2\n",
      "done with reg=0.5 and it=5\n",
      "done with reg=2 and it=5\n",
      "done with reg=0.5 and it=10\n",
      "done with reg=2 and it=10\n"
     ]
    }
   ],
   "source": [
    "iter_vals = [200, 500, 1000, 2000, 3000, 4000, 5000]\n",
    "rand_file_dict = {0.02: None, 0.2: None, 0.5: None, 2: None, 5: None, 10: None}\n",
    "\n",
    "\n",
    "for it_idx in range(len(iter_vals)):\n",
    "    for lval in rand_file_dict.keys():\n",
    "        if rand_file_dict[lval] is None:\n",
    "            Wb, Hb, Wl, Hl, fscores, gscores, lambda_vals = nmf_son(smallX, iniW.copy(), iniH.copy(), _lambda=lval, itermax=iter_vals[it_idx], scale_lambda=True)\n",
    "        else:\n",
    "            data = np.load(rand_file_dict[lval])\n",
    "            Wb, Hb, Wl, Hl, fscores, gscores, lambda_vals = nmf_son(smallX, data['Wl'], data['Hl'], _lambda=lval, itermax=iter_vals[it_idx] - iter_vals[it_idx-1], scale_lambda=True)\n",
    "            fscores = np.append(data['fscores'][:-1], fscores)\n",
    "            gscores = np.append(data['gscores'][:-1], gscores)\n",
    "            lambda_vals = np.append(data['lambda_vals'][:-1], lambda_vals)\n",
    "\n",
    "        save_file = f'urban/results/new/rand-ini-r{rank}-it{iter_vals[it_idx]}-l{str(lval).replace(\".\", \"_\")}.npz'\n",
    "        with open(save_file, 'wb') as fout:\n",
    "            np.savez_compressed(fout, Wb=Wb, Hb=Hb, Wl=Wl, Hl=Hl, fscores=fscores, gscores=gscores, lambda_vals=lambda_vals)\n",
    "        rand_file_dict[lval] = save_file\n",
    "\n",
    "        print(f'done with reg={lval} and it={iter_vals[it_idx]}')"
   ],
   "metadata": {
    "collapsed": false,
    "pycharm": {
     "name": "#%%\n"
    }
   }
  },
  {
   "cell_type": "code",
   "execution_count": 41,
   "outputs": [],
   "source": [
    "nmf_file_dict = {0.02: None, 0.2: None, 0.5: None, 2: None, 5: None, 10: None}\n",
    "#\n",
    "for it_idx in range(len(iter_vals)):\n",
    "    for lval in nmf_file_dict.keys():\n",
    "        if nmf_file_dict[lval] is None:\n",
    "            Wb, Hb, Wl, Hl, fscores, gscores, lambda_vals = nmf_son(smallX, nmfW.copy(), nmfH.copy(), _lambda=lval, itermax=iter_vals[it_idx], scale_lambda=True)\n",
    "        else:\n",
    "            data = np.load(nmf_file_dict[lval])\n",
    "            Wb, Hb, Wl, Hl, fscores, gscores, lambda_vals = nmf_son(smallX, data['Wl'], data['Hl'], _lambda=lval, itermax=iter_vals[it_idx] - iter_vals[it_idx-1], scale_lambda=True)\n",
    "            fscores = np.append(data['fscores'][:-1], fscores)\n",
    "            gscores = np.append(data['gscores'][:-1], gscores)\n",
    "            lambda_vals = np.append(data['lambda_vals'][:-1], lambda_vals)\n",
    "\n",
    "        save_file = f'urban/results/new/nmf-ini-r{rank}-it{iter_vals[it_idx]}-l{str(lval).replace(\".\", \"_\")}.npz'\n",
    "        with open(save_file, 'wb') as fout:\n",
    "            np.savez_compressed(fout, Wb=Wb, Hb=Hb, Wl=Wl, Hl=Hl, fscores=fscores, gscores=gscores, lambda_vals=lambda_vals)\n",
    "        nmf_file_dict[lval] = save_file\n",
    "\n",
    "        print(f'done with reg={lval} and it={iter_vals[it_idx]}')"
   ],
   "metadata": {
    "collapsed": false,
    "pycharm": {
     "name": "#%%\n"
    }
   }
  }
 ],
 "metadata": {
  "kernelspec": {
   "display_name": "Python 3",
   "language": "python",
   "name": "python3"
  },
  "language_info": {
   "codemirror_mode": {
    "name": "ipython",
    "version": 2
   },
   "file_extension": ".py",
   "mimetype": "text/x-python",
   "name": "python",
   "nbconvert_exporter": "python",
   "pygments_lexer": "ipython2",
   "version": "2.7.6"
  }
 },
 "nbformat": 4,
 "nbformat_minor": 0
}