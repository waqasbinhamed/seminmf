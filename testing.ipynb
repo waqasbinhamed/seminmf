{
 "cells": [
  {
   "cell_type": "code",
   "execution_count": 1,
   "metadata": {
    "collapsed": true,
    "pycharm": {
     "name": "#%%\n"
    }
   },
   "outputs": [],
   "source": [
    "import numpy as np\n",
    "import matplotlib.pyplot as plt\n",
    "from main import nmf\n",
    "np.random.seed(42)"
   ]
  },
  {
   "cell_type": "code",
   "execution_count": 2,
   "outputs": [],
   "source": [
    "def zeros_mask(arr):\n",
    "    m, n = arr.shape\n",
    "    indices = np.random.choice(m * n, replace=False, size=int(m * n * 0.2))\n",
    "    arr[np.unravel_index(indices, (m, n))] = 0\n",
    "    return arr\n",
    "\n",
    "\n",
    "m, n, r_true = 12, 8, 3\n",
    "W_true = np.zeros((m, r_true))\n",
    "W_true[0:4, 0] = 1\n",
    "W_true[4:8, 1] = 1\n",
    "W_true[8:m, 2] = 1\n",
    "H_true = zeros_mask(np.random.rand(r_true, n))\n",
    "M = W_true @ H_true"
   ],
   "metadata": {
    "collapsed": false,
    "pycharm": {
     "name": "#%%\n"
    }
   }
  },
  {
   "cell_type": "code",
   "execution_count": 3,
   "outputs": [
    {
     "data": {
      "text/plain": "array([[1., 0., 0.],\n       [1., 0., 0.],\n       [1., 0., 0.],\n       [1., 0., 0.],\n       [0., 1., 0.],\n       [0., 1., 0.],\n       [0., 1., 0.],\n       [0., 1., 0.],\n       [0., 0., 1.],\n       [0., 0., 1.],\n       [0., 0., 1.],\n       [0., 0., 1.]])"
     },
     "execution_count": 3,
     "metadata": {},
     "output_type": "execute_result"
    }
   ],
   "source": [
    "W_true"
   ],
   "metadata": {
    "collapsed": false,
    "pycharm": {
     "name": "#%%\n"
    }
   }
  },
  {
   "cell_type": "code",
   "execution_count": 4,
   "outputs": [
    {
     "data": {
      "text/plain": "array([[0.        , 0.95071431, 0.73199394, 0.59865848, 0.15601864,\n        0.        , 0.05808361, 0.86617615],\n       [0.60111501, 0.70807258, 0.02058449, 0.96990985, 0.83244264,\n        0.21233911, 0.18182497, 0.        ],\n       [0.30424224, 0.52475643, 0.43194502, 0.29122914, 0.        ,\n        0.13949386, 0.29214465, 0.36636184]])"
     },
     "execution_count": 4,
     "metadata": {},
     "output_type": "execute_result"
    }
   ],
   "source": [
    "H_true"
   ],
   "metadata": {
    "collapsed": false,
    "pycharm": {
     "name": "#%%\n"
    }
   }
  },
  {
   "cell_type": "code",
   "execution_count": 5,
   "outputs": [],
   "source": [
    "r = 6\n",
    "W_ini = np.random.rand(m, r)\n",
    "H_ini = np.random.rand(r, n)"
   ],
   "metadata": {
    "collapsed": false,
    "pycharm": {
     "name": "#%%\n"
    }
   }
  },
  {
   "cell_type": "markdown",
   "source": [
    "### lambda = 0.0"
   ],
   "metadata": {
    "collapsed": false,
    "pycharm": {
     "name": "#%% md\n"
    }
   }
  },
  {
   "cell_type": "code",
   "execution_count": 6,
   "outputs": [],
   "source": [
    "# _lambda = 0.0\n",
    "# itermax = 50\n",
    "#\n",
    "# _, _, _, _, fscores1, gscores1 = nmf(M, W_ini.copy(), H_ini.copy(), _lambda=_lambda, itermax=itermax, update_ver=1)\n",
    "# _, _, _, _, fscores2, gscores2 = nmf(M, W_ini.copy(), H_ini.copy(), _lambda=_lambda, itermax=itermax, update_ver=2)\n",
    "# _, _, _, _, fscores3, gscores3 = nmf(M, W_ini.copy(), H_ini.copy(), _lambda=_lambda, itermax=itermax, update_ver=3)"
   ],
   "metadata": {
    "collapsed": false,
    "pycharm": {
     "name": "#%%\n"
    }
   }
  },
  {
   "cell_type": "code",
   "execution_count": 7,
   "outputs": [],
   "source": [
    "# fscores_all = [fscores1, fscores2, fscores3]\n",
    "# gscores_all = [gscores1, gscores2, gscores3]\n",
    "# titles = ['subgradient', 'admm', 'smoothing']\n",
    "#\n",
    "# fig, ax = plt.subplots(nrows=1, ncols=3, figsize=(15, 5))\n",
    "#\n",
    "# for idx in range(3):\n",
    "#     ax[idx].set_yscale('log')\n",
    "#     ax[idx].plot(fscores_all[idx])\n",
    "#     ax[idx].plot(gscores_all[idx])\n",
    "#     ax[idx].plot(fscores_all[idx] + _lambda * gscores_all[idx])\n",
    "#     ax[idx].legend(['f', 'g', 'total'])\n",
    "#     ax[idx].set_title(titles[idx])"
   ],
   "metadata": {
    "collapsed": false,
    "pycharm": {
     "name": "#%%\n"
    }
   }
  },
  {
   "cell_type": "markdown",
   "source": [
    "### lambda = 0.4"
   ],
   "metadata": {
    "collapsed": false,
    "pycharm": {
     "name": "#%% md\n"
    }
   }
  },
  {
   "cell_type": "code",
   "execution_count": 8,
   "outputs": [],
   "source": [
    "# _lambda = 0.4\n",
    "# itermax = 50\n",
    "#\n",
    "# _, _, _, _, fscores1, gscores1 = nmf(M, W_ini.copy(), H_ini.copy(), _lambda=_lambda, itermax=itermax, update_ver=1)\n",
    "# _, _, _, _, fscores2, gscores2 = nmf(M, W_ini.copy(), H_ini.copy(), _lambda=_lambda, itermax=itermax, update_ver=2)\n",
    "# _, _, _, _, fscores3, gscores3 = nmf(M, W_ini.copy(), H_ini.copy(), _lambda=_lambda, itermax=itermax, update_ver=3)"
   ],
   "metadata": {
    "collapsed": false,
    "pycharm": {
     "name": "#%%\n"
    }
   }
  },
  {
   "cell_type": "code",
   "execution_count": 9,
   "outputs": [],
   "source": [
    "# fscores_all = [fscores1, fscores2, fscores3]\n",
    "# gscores_all = [gscores1, gscores2, gscores3]\n",
    "# titles = ['subgradient', 'admm', 'smoothing']\n",
    "#\n",
    "# fig, ax = plt.subplots(nrows=1, ncols=3, figsize=(15, 5))\n",
    "#\n",
    "# for idx in range(3):\n",
    "#     ax[idx].set_yscale('log')\n",
    "#     ax[idx].plot(fscores_all[idx])\n",
    "#     ax[idx].plot(gscores_all[idx])\n",
    "#     ax[idx].plot(fscores_all[idx] + _lambda * gscores_all[idx])\n",
    "#     ax[idx].legend(['f', 'g', 'total'])\n",
    "#     ax[idx].set_title(titles[idx])"
   ],
   "metadata": {
    "collapsed": false,
    "pycharm": {
     "name": "#%%\n"
    }
   }
  },
  {
   "cell_type": "code",
   "execution_count": 10,
   "outputs": [
    {
     "name": "stdout",
     "output_type": "stream",
     "text": [
      "Iteration: 1, f=4.374577681049669, g=1.1755238807505077,  total=5.079892009499973\n",
      "Iteration: 2, f=2.27257144050671, g=0.6498651548491265,  total=2.662490533416186\n",
      "Iteration: 3, f=1.8546486026573186, g=0.6676041489875897,  total=2.2552110920498722\n",
      "Iteration: 4, f=1.3757263723185744, g=0.6730206898122687,  total=1.7795387862059355\n",
      "Iteration: 5, f=0.9229663504946968, g=0.6371944999722213,  total=1.3052830504780295\n",
      "Iteration: 6, f=0.6069220444987499, g=0.6102689110065324,  total=0.9730833911026693\n",
      "Iteration: 7, f=0.44474660406057304, g=0.582993982061891,  total=0.7945429932977076\n",
      "Iteration: 8, f=0.33426908584964693, g=0.5606251114882471,  total=0.6706441527425953\n",
      "Iteration: 9, f=0.27201929857109974, g=0.544354664748752,  total=0.598632097420351\n",
      "Iteration: 10, f=0.23417306755732434, g=0.530100546439277,  total=0.5522333954208904\n",
      "Iteration: 11, f=0.2115772784759449, g=0.516367271978059,  total=0.5213976416627802\n",
      "Iteration: 12, f=0.18970761820765336, g=0.5039958225179032,  total=0.49210511171839527\n",
      "Iteration: 13, f=0.18026905572255045, g=0.4919750459604269,  total=0.47545408329880656\n",
      "Iteration: 14, f=0.17561241356453217, g=0.48092717910756255,  total=0.4641687210290697\n",
      "Iteration: 15, f=0.17439121490174198, g=0.4698771628869355,  total=0.45631751263390324\n",
      "Iteration: 16, f=0.17120130356072377, g=0.45922005864041276,  total=0.4467333387449714\n",
      "Iteration: 17, f=0.17083685440396373, g=0.44856744398559933,  total=0.4399773207953233\n",
      "Iteration: 18, f=0.17077928061926995, g=0.4383388981336012,  total=0.43378261949943064\n",
      "Iteration: 19, f=0.16723296258677453, g=0.42852649745531535,  total=0.4243488610599637\n",
      "Iteration: 20, f=0.1692003311367249, g=0.4189562900851717,  total=0.4205741051878279\n",
      "Iteration: 21, f=0.17136344384890642, g=0.4096614034996901,  total=0.41716028594872046\n",
      "Iteration: 22, f=0.16156271024277308, g=0.4013557336117066,  total=0.402376150409797\n",
      "Iteration: 23, f=0.16822016040630056, g=0.39312058419406043,  total=0.4040925109227368\n",
      "Iteration: 24, f=0.16633534431979946, g=0.38516668565661516,  total=0.39743535571376853\n",
      "Iteration: 25, f=0.16688423102168715, g=0.3776178738897179,  total=0.3934549553555179\n",
      "Iteration: 26, f=0.16247686464676947, g=0.3706888933199977,  total=0.3848902006387681\n",
      "Iteration: 27, f=0.1693620622596114, g=0.3635905124599355,  total=0.3875163697355727\n",
      "Iteration: 28, f=0.17653804401034065, g=0.35653647357601304,  total=0.39045992815594843\n",
      "Iteration: 29, f=0.17914074761084345, g=0.35021074063096425,  total=0.389267191989422\n",
      "Iteration: 30, f=0.1745838814305198, g=0.34435261435760783,  total=0.3811954500450845\n",
      "Iteration: 31, f=0.1799577967747044, g=0.3382590329101954,  total=0.3829132165208216\n",
      "Iteration: 32, f=0.18838506354811593, g=0.3323440996456856,  total=0.3877915233355273\n",
      "Iteration: 33, f=0.18097020118784446, g=0.32696631491833117,  total=0.37714999013884315\n",
      "Iteration: 34, f=0.1958808952025195, g=0.321306062653996,  total=0.3886645327949171\n",
      "Iteration: 35, f=0.19457928770513339, g=0.3161062924472296,  total=0.3842430631734711\n",
      "Iteration: 36, f=0.1991487837850143, g=0.31119400709981393,  total=0.38586518804490266\n",
      "Iteration: 37, f=0.2011376781425193, g=0.3062538889315562,  total=0.38489001150145297\n",
      "Iteration: 38, f=0.2151524451620318, g=0.3013137015411806,  total=0.39594066608674017\n",
      "Iteration: 39, f=0.21860566234143372, g=0.2964574691915892,  total=0.39648014385638725\n",
      "Iteration: 40, f=0.23633805030816527, g=0.29195902098045123,  total=0.411513462896436\n",
      "Iteration: 41, f=0.2306590163114579, g=0.28773448839755766,  total=0.4032997093499925\n",
      "Iteration: 42, f=0.24621617366104587, g=0.2834020548391509,  total=0.41625740656453636\n",
      "Iteration: 43, f=0.23838735439934106, g=0.27930676395091936,  total=0.4059714127698927\n",
      "Iteration: 44, f=0.23455035824629075, g=0.27571025321997933,  total=0.39997651017827834\n",
      "Iteration: 45, f=0.24580400532683633, g=0.2719448303600742,  total=0.40897090354288085\n",
      "Iteration: 46, f=0.25285537235437866, g=0.267862028097424,  total=0.413572589212833\n",
      "Iteration: 47, f=0.2522297730862875, g=0.2643313865826537,  total=0.4108286050358797\n",
      "Iteration: 48, f=0.26362133527443055, g=0.26033225048769,  total=0.41982068556704455\n",
      "Iteration: 49, f=0.2742735199189123, g=0.25685407958277695,  total=0.4283859676685785\n",
      "Iteration: 50, f=0.27085014797240564, g=0.2537334941478338,  total=0.4230902444611059\n",
      "Iteration: 51, f=0.28928331702221793, g=0.24992834430983102,  total=0.43924032360811655\n",
      "Iteration: 52, f=0.27646478651313033, g=0.24681256082983316,  total=0.4245523230110302\n",
      "Iteration: 53, f=0.2975715424863683, g=0.24320777078306888,  total=0.4434962049562096\n",
      "Iteration: 54, f=0.3195351803410034, g=0.2396288004301356,  total=0.46331246059908476\n",
      "Iteration: 55, f=0.32060577887587616, g=0.23686037941383237,  total=0.4627220065241756\n",
      "Iteration: 56, f=0.2990828028326268, g=0.23409184067009164,  total=0.4395379072346818\n",
      "Iteration: 57, f=0.3366658297073091, g=0.23018637481225904,  total=0.47477765459466453\n",
      "Iteration: 58, f=0.3115357412228432, g=0.22753119578121364,  total=0.4480544586915714\n",
      "Iteration: 59, f=0.31235370875027096, g=0.2247218130813132,  total=0.4471867965990589\n",
      "Iteration: 60, f=0.3498740536166863, g=0.22129324825171648,  total=0.4826500025677162\n",
      "Iteration: 61, f=0.34424298313225044, g=0.2183825914377039,  total=0.4752725379948728\n",
      "Iteration: 62, f=0.3429877709006376, g=0.21533451492357467,  total=0.4721884798547824\n",
      "Iteration: 63, f=0.36602677739935746, g=0.2122747717530674,  total=0.4933916404511979\n",
      "Iteration: 64, f=0.3947384159129522, g=0.20883744035526033,  total=0.5200408801261084\n",
      "Iteration: 65, f=0.4007623012734766, g=0.2059547766052828,  total=0.5243351672366463\n",
      "Iteration: 66, f=0.3924733079862828, g=0.20290266663543322,  total=0.5142149079675428\n",
      "Iteration: 67, f=0.4106355507312688, g=0.20025205654180311,  total=0.5307867846563507\n",
      "Iteration: 68, f=0.42491883552544596, g=0.19731876268181428,  total=0.5433100931345345\n",
      "Iteration: 69, f=0.4167274042199674, g=0.19541997615594242,  total=0.5339793899135329\n",
      "Iteration: 70, f=0.461251404392683, g=0.19215444199213808,  total=0.5765440695879658\n",
      "Iteration: 71, f=0.43848578247726167, g=0.18964066529560566,  total=0.552270181654625\n",
      "Iteration: 72, f=0.41346538344674677, g=0.1878588468782887,  total=0.5261806915737199\n",
      "Iteration: 73, f=0.4495373699842704, g=0.18449871162984396,  total=0.5602365969621768\n",
      "Iteration: 74, f=0.4538516704993287, g=0.1816506733796297,  total=0.5628420745271066\n",
      "Iteration: 75, f=0.458480506468923, g=0.17965599831146883,  total=0.5662741054558044\n",
      "Iteration: 76, f=0.4916819140771254, g=0.17563921361200613,  total=0.5970654422443291\n",
      "Iteration: 77, f=0.45353159499243667, g=0.17381194906223002,  total=0.5578187644297747\n",
      "Iteration: 78, f=0.4390693752479199, g=0.1721794710863441,  total=0.5423770578997263\n",
      "Iteration: 79, f=0.5225746138852225, g=0.16850798998916555,  total=0.6236794078787219\n",
      "Iteration: 80, f=0.47513074175140246, g=0.16662945596999437,  total=0.5751084153333991\n",
      "Iteration: 81, f=0.42127045500711874, g=0.16611333230736344,  total=0.5209384543915367\n",
      "Iteration: 82, f=0.4241656427538606, g=0.16432729906530028,  total=0.5227620221930408\n",
      "Iteration: 83, f=0.4812586447922682, g=0.1602375689060285,  total=0.5774011861358853\n",
      "Iteration: 84, f=0.5168082230805369, g=0.15847058465673525,  total=0.611890573874578\n",
      "Iteration: 85, f=0.4879658890062321, g=0.1569824081109276,  total=0.5821553338727886\n",
      "Iteration: 86, f=0.4834021520826482, g=0.15578877871179161,  total=0.5768754193097232\n",
      "Iteration: 87, f=0.4662431457552192, g=0.15455052521802867,  total=0.5589734608860364\n",
      "Iteration: 88, f=0.45360225725862546, g=0.15292348259721006,  total=0.5453563468169516\n",
      "Iteration: 89, f=0.4355074359555835, g=0.15221945885491472,  total=0.5268391112685323\n",
      "Iteration: 90, f=0.45017951950307755, g=0.15069032388626777,  total=0.5405937138348382\n",
      "Iteration: 91, f=0.4393167559295838, g=0.14907988271642317,  total=0.5287646855594377\n",
      "Iteration: 92, f=0.46806800777512286, g=0.14790242065109852,  total=0.5568094601657819\n",
      "Iteration: 93, f=0.49301648226141265, g=0.1456071120326441,  total=0.5803807494809992\n",
      "Iteration: 94, f=0.4475688426971561, g=0.14557703670137837,  total=0.5349150647179831\n",
      "Iteration: 95, f=0.430550107630476, g=0.14576878788332254,  total=0.5180113803604696\n",
      "Iteration: 96, f=0.49965737833861884, g=0.14281687903248574,  total=0.5853475057581103\n",
      "Iteration: 97, f=0.4926338233419628, g=0.14162054380318137,  total=0.5776061496238716\n",
      "Iteration: 98, f=0.48876318190176543, g=0.13979285860222782,  total=0.5726388970631021\n",
      "Iteration: 99, f=0.47612267388850543, g=0.13896538675838796,  total=0.5595019059435382\n",
      "Iteration: 100, f=0.45527270740384423, g=0.13794764651092795,  total=0.538041295310401\n",
      "Iteration: 101, f=0.4647399012271618, g=0.13658029684544618,  total=0.5466880793344295\n",
      "Iteration: 102, f=0.51287395298992, g=0.13358679986033212,  total=0.5930260329061192\n",
      "Iteration: 103, f=0.5030677477573797, g=0.13302743464775243,  total=0.5828842085460312\n",
      "Iteration: 104, f=0.5345102641834081, g=0.13127855955067738,  total=0.6132773999138145\n",
      "Iteration: 105, f=0.5178903785482057, g=0.13068960324439638,  total=0.5963041404948436\n",
      "Iteration: 106, f=0.5453239337293726, g=0.12933270670750935,  total=0.6229235577538782\n",
      "Iteration: 107, f=0.5198714856763895, g=0.1288474316364297,  total=0.5971799446582473\n",
      "Iteration: 108, f=0.5811349582272879, g=0.12746373682231196,  total=0.657613200320675\n",
      "Iteration: 109, f=0.6264827288781538, g=0.1255579573267417,  total=0.7018175032741988\n",
      "Iteration: 110, f=0.555527929630644, g=0.12587070121651875,  total=0.6310503503605552\n",
      "Iteration: 111, f=0.5033598942822431, g=0.12536583221379702,  total=0.5785793936105214\n",
      "Iteration: 112, f=0.6340516841094331, g=0.12339296993881887,  total=0.7080874660727244\n",
      "Iteration: 113, f=0.6103099153316573, g=0.12275047949370357,  total=0.6839602030278795\n",
      "Iteration: 114, f=0.5744936624774462, g=0.12160797969519042,  total=0.6474584502945604\n",
      "Iteration: 115, f=0.5761931738250895, g=0.12104640850912869,  total=0.6488210189305668\n",
      "Iteration: 116, f=0.6575683271733308, g=0.11986707731912849,  total=0.7294885735648079\n",
      "Iteration: 117, f=0.6816054059751295, g=0.11830653868841225,  total=0.7525893291881769\n",
      "Iteration: 118, f=0.6239460691798773, g=0.11860148885055809,  total=0.6951069624902121\n",
      "Iteration: 119, f=0.6871518948509181, g=0.11749980102425174,  total=0.7576517754654691\n",
      "Iteration: 120, f=0.6498356633385318, g=0.11719495491718782,  total=0.7201526362888445\n",
      "Iteration: 121, f=0.6811949689311684, g=0.1162243331159268,  total=0.7509295688007245\n",
      "Iteration: 122, f=0.7093850305440986, g=0.11626212529584949,  total=0.7791423057216084\n",
      "Iteration: 123, f=0.6984134009704211, g=0.11589810141817256,  total=0.7679522618213247\n",
      "Iteration: 124, f=0.6682771556829472, g=0.11634958314523698,  total=0.7380869055700894\n",
      "Iteration: 125, f=0.675349351211092, g=0.11496339185032002,  total=0.744327386321284\n",
      "Iteration: 126, f=0.7094884575368499, g=0.1148985990044887,  total=0.7784276169395431\n",
      "Iteration: 127, f=0.6895709102208355, g=0.1150851044807071,  total=0.7586219729092598\n",
      "Iteration: 128, f=0.7365580848810981, g=0.11377153301427693,  total=0.8048210046896642\n",
      "Iteration: 129, f=0.6967739675245324, g=0.11468642307062048,  total=0.7655858213669047\n",
      "Iteration: 130, f=0.6493872614858581, g=0.11433434094332884,  total=0.7179878660518554\n",
      "Iteration: 131, f=0.7634508310432313, g=0.11357331919711541,  total=0.8315948225615005\n",
      "Iteration: 132, f=0.7425186643783339, g=0.11358409596555018,  total=0.810669121957664\n"
     ]
    },
    {
     "ename": "KeyboardInterrupt",
     "evalue": "",
     "output_type": "error",
     "traceback": [
      "\u001B[0;31m---------------------------------------------------------------------------\u001B[0m",
      "\u001B[0;31mKeyboardInterrupt\u001B[0m                         Traceback (most recent call last)",
      "Input \u001B[0;32mIn [10]\u001B[0m, in \u001B[0;36m<cell line: 3>\u001B[0;34m()\u001B[0m\n\u001B[1;32m      1\u001B[0m itermax \u001B[38;5;241m=\u001B[39m \u001B[38;5;241m200\u001B[39m\n\u001B[0;32m----> 3\u001B[0m W1b, H1b, W1l, H1l, fscores1, gscores1 \u001B[38;5;241m=\u001B[39m \u001B[43mnmf\u001B[49m\u001B[43m(\u001B[49m\u001B[43mM\u001B[49m\u001B[43m,\u001B[49m\u001B[43m \u001B[49m\u001B[43mW_ini\u001B[49m\u001B[38;5;241;43m.\u001B[39;49m\u001B[43mcopy\u001B[49m\u001B[43m(\u001B[49m\u001B[43m)\u001B[49m\u001B[43m,\u001B[49m\u001B[43m \u001B[49m\u001B[43mH_ini\u001B[49m\u001B[38;5;241;43m.\u001B[39;49m\u001B[43mcopy\u001B[49m\u001B[43m(\u001B[49m\u001B[43m)\u001B[49m\u001B[43m,\u001B[49m\u001B[43m \u001B[49m\u001B[43m_lambda\u001B[49m\u001B[38;5;241;43m=\u001B[39;49m\u001B[38;5;241;43m0.6\u001B[39;49m\u001B[43m,\u001B[49m\u001B[43m \u001B[49m\u001B[43mitermax\u001B[49m\u001B[38;5;241;43m=\u001B[39;49m\u001B[43mitermax\u001B[49m\u001B[43m,\u001B[49m\u001B[43m \u001B[49m\u001B[43mscale_lambda\u001B[49m\u001B[38;5;241;43m=\u001B[39;49m\u001B[38;5;28;43;01mFalse\u001B[39;49;00m\u001B[43m)\u001B[49m\n\u001B[1;32m      4\u001B[0m W2b, H2b, W2l, H2l, fscores2, gscores2 \u001B[38;5;241m=\u001B[39m nmf(M, W_ini\u001B[38;5;241m.\u001B[39mcopy(), H_ini\u001B[38;5;241m.\u001B[39mcopy(), _lambda\u001B[38;5;241m=\u001B[39m\u001B[38;5;241m0.6\u001B[39m, itermax\u001B[38;5;241m=\u001B[39mitermax, scale_lambda\u001B[38;5;241m=\u001B[39m\u001B[38;5;28;01mFalse\u001B[39;00m, gswitch\u001B[38;5;241m=\u001B[39m\u001B[38;5;28;01mTrue\u001B[39;00m)\n\u001B[1;32m      5\u001B[0m W3b, H3b, W3l, H3l, fscores3, gscores3 \u001B[38;5;241m=\u001B[39m nmf(M, W_ini\u001B[38;5;241m.\u001B[39mcopy(), H_ini\u001B[38;5;241m.\u001B[39mcopy(), _lambda\u001B[38;5;241m=\u001B[39m\u001B[38;5;241m0.6\u001B[39m, itermax\u001B[38;5;241m=\u001B[39mitermax, scale_lambda\u001B[38;5;241m=\u001B[39m\u001B[38;5;28;01mTrue\u001B[39;00m)\n",
      "File \u001B[0;32m~/Desktop/seminmf/main.py:160\u001B[0m, in \u001B[0;36mnmf\u001B[0;34m(M, W, H, _lambda, itermax, update_ver, scale_lambda, gswitch)\u001B[0m\n\u001B[1;32m    158\u001B[0m     W[:, j: j \u001B[38;5;241m+\u001B[39m \u001B[38;5;241m1\u001B[39m] \u001B[38;5;241m=\u001B[39m wj \u001B[38;5;241m=\u001B[39m update_wj_1(W, Mj, wj, hj, j, m, scaled_lambda)\n\u001B[1;32m    159\u001B[0m \u001B[38;5;28;01melif\u001B[39;00m update_ver \u001B[38;5;241m==\u001B[39m \u001B[38;5;241m2\u001B[39m:\n\u001B[0;32m--> 160\u001B[0m     W[:, j: j \u001B[38;5;241m+\u001B[39m \u001B[38;5;241m1\u001B[39m] \u001B[38;5;241m=\u001B[39m wj \u001B[38;5;241m=\u001B[39m \u001B[43mupdate_wj_2\u001B[49m\u001B[43m(\u001B[49m\u001B[43mW\u001B[49m\u001B[43m,\u001B[49m\u001B[43m \u001B[49m\u001B[43mMj\u001B[49m\u001B[43m,\u001B[49m\u001B[43m \u001B[49m\u001B[43mwj\u001B[49m\u001B[43m,\u001B[49m\u001B[43m \u001B[49m\u001B[43mhj\u001B[49m\u001B[43m,\u001B[49m\u001B[43m \u001B[49m\u001B[43mj\u001B[49m\u001B[43m,\u001B[49m\u001B[43m \u001B[49m\u001B[43mm\u001B[49m\u001B[43m,\u001B[49m\u001B[43m \u001B[49m\u001B[43mr\u001B[49m\u001B[43m,\u001B[49m\u001B[43m \u001B[49m\u001B[43mscaled_lambda\u001B[49m\u001B[43m)\u001B[49m\n\u001B[1;32m    161\u001B[0m \u001B[38;5;28;01melif\u001B[39;00m update_ver \u001B[38;5;241m==\u001B[39m \u001B[38;5;241m3\u001B[39m:\n\u001B[1;32m    162\u001B[0m     W[:, j: j \u001B[38;5;241m+\u001B[39m \u001B[38;5;241m1\u001B[39m] \u001B[38;5;241m=\u001B[39m wj \u001B[38;5;241m=\u001B[39m update_wj_3(wj, hj, Mj, W, j, m, scaled_lambda)\n",
      "File \u001B[0;32m~/Desktop/seminmf/main.py:85\u001B[0m, in \u001B[0;36mupdate_wj_2\u001B[0;34m(W, Mj, new_z, hj, j, m, r, _lambda, rho, itermax)\u001B[0m\n\u001B[1;32m     83\u001B[0m norm_mask \u001B[38;5;241m=\u001B[39m tmp_norm \u001B[38;5;241m>\u001B[39m \u001B[38;5;241m1\u001B[39m\n\u001B[1;32m     84\u001B[0m new_wi_arr[:, norm_mask] \u001B[38;5;241m=\u001B[39m zeta_arr[:, norm_mask] \u001B[38;5;241m-\u001B[39m _lambda \u001B[38;5;241m*\u001B[39m (tmp_arr[:, norm_mask] \u001B[38;5;241m/\u001B[39m tmp_norm[norm_mask])\n\u001B[0;32m---> 85\u001B[0m new_wi_arr[:, \u001B[38;5;241m~\u001B[39mnorm_mask] \u001B[38;5;241m=\u001B[39m zeta_arr[:, \u001B[38;5;241m~\u001B[39mnorm_mask] \u001B[38;5;241m-\u001B[39m _lambda \u001B[38;5;241m*\u001B[39m tmp_arr[:, \u001B[38;5;241;43m~\u001B[39;49m\u001B[43mnorm_mask\u001B[49m]\n\u001B[1;32m     86\u001B[0m new_wi_arr \u001B[38;5;241m=\u001B[39m non_neg(new_wi_arr)\n\u001B[1;32m     87\u001B[0m new_z \u001B[38;5;241m=\u001B[39m (rho \u001B[38;5;241m*\u001B[39m (new_wf \u001B[38;5;241m+\u001B[39m new_w0) \u001B[38;5;241m+\u001B[39m rho \u001B[38;5;241m*\u001B[39m np\u001B[38;5;241m.\u001B[39msum(new_wi_arr, axis\u001B[38;5;241m=\u001B[39m\u001B[38;5;241m1\u001B[39m)\u001B[38;5;241m.\u001B[39mreshape(m, \u001B[38;5;241m1\u001B[39m) \u001B[38;5;241m+\u001B[39m yf \u001B[38;5;241m+\u001B[39m y0 \u001B[38;5;241m+\u001B[39m np\u001B[38;5;241m.\u001B[39msum(yi_arr,\n\u001B[1;32m     88\u001B[0m                                                                                                      axis\u001B[38;5;241m=\u001B[39m\u001B[38;5;241m1\u001B[39m)\u001B[38;5;241m.\u001B[39mreshape(\n\u001B[1;32m     89\u001B[0m     m, \u001B[38;5;241m1\u001B[39m)) \u001B[38;5;241m/\u001B[39m (rho \u001B[38;5;241m*\u001B[39m (\u001B[38;5;241m2\u001B[39m \u001B[38;5;241m+\u001B[39m num_edges))\n",
      "\u001B[0;31mKeyboardInterrupt\u001B[0m: "
     ]
    }
   ],
   "source": [
    "itermax = 200\n",
    "\n",
    "W1b, H1b, W1l, H1l, fscores1, gscores1 = nmf(M, W_ini.copy(), H_ini.copy(), _lambda=0.6, itermax=itermax, scale_lambda=False)\n",
    "W2b, H2b, W2l, H2l, fscores2, gscores2 = nmf(M, W_ini.copy(), H_ini.copy(), _lambda=0.6, itermax=itermax, scale_lambda=False, gswitch=True)\n",
    "W3b, H3b, W3l, H3l, fscores3, gscores3 = nmf(M, W_ini.copy(), H_ini.copy(), _lambda=0.6, itermax=itermax, scale_lambda=True)\n",
    "W4b, H4b, W4l, H4l, fscores4, gscores4 = nmf(M, W_ini.copy(), H_ini.copy(), _lambda=0.6, itermax=itermax, scale_lambda=True, gswitch=True)"
   ],
   "metadata": {
    "collapsed": false,
    "pycharm": {
     "name": "#%%\n"
    }
   }
  },
  {
   "cell_type": "code",
   "execution_count": null,
   "outputs": [],
   "source": [
    "fscores_all = [fscores1, fscores2, fscores3, fscores4]\n",
    "gscores_all = [gscores1, gscores2, gscores3, gscores4]\n",
    "lambdas = [0.3, 0.6, 1, 2]\n",
    "titles = ['l = 0.3', 'l = 0.6', 'l = 1', 'l = 2']\n",
    "\n",
    "fig, ax = plt.subplots(nrows=1, ncols=4, figsize=(20, 5))\n",
    "\n",
    "for idx in range(4):\n",
    "    ax[idx].set_yscale('log')\n",
    "    ax[idx].plot(fscores_all[idx])\n",
    "    ax[idx].plot(gscores_all[idx])\n",
    "    ax[idx].plot(fscores_all[idx] + lambdas[idx] * gscores_all[idx])\n",
    "    ax[idx].legend(['f', 'g', 'total'])\n",
    "    ax[idx].set_title(titles[idx])"
   ],
   "metadata": {
    "collapsed": false,
    "pycharm": {
     "name": "#%%\n"
    }
   }
  },
  {
   "cell_type": "code",
   "execution_count": null,
   "outputs": [],
   "source": [
    "W_ins = W2l"
   ],
   "metadata": {
    "collapsed": false,
    "pycharm": {
     "name": "#%%\n"
    }
   }
  },
  {
   "cell_type": "code",
   "execution_count": null,
   "outputs": [],
   "source": [
    "n = np.ones(shape=(r, r)) * -1\n",
    "for i in range(r):\n",
    "    for j in range(r):\n",
    "            n[i, j] = np.linalg.norm(W_ins[:, i] - W_ins[:, j])"
   ],
   "metadata": {
    "collapsed": false,
    "pycharm": {
     "name": "#%%\n"
    }
   }
  },
  {
   "cell_type": "code",
   "execution_count": null,
   "outputs": [],
   "source": [
    "for row in range(r):\n",
    "    n[row, :] = n[row, :]  / sum(n[row, :])"
   ],
   "metadata": {
    "collapsed": false,
    "pycharm": {
     "name": "#%%\n"
    }
   }
  },
  {
   "cell_type": "code",
   "execution_count": null,
   "outputs": [],
   "source": [
    "for row in n:\n",
    "    print(row)"
   ],
   "metadata": {
    "collapsed": false,
    "pycharm": {
     "name": "#%%\n"
    }
   }
  },
  {
   "cell_type": "code",
   "execution_count": null,
   "outputs": [],
   "source": [
    "np.linalg.norm(W_ins,axis=1)"
   ],
   "metadata": {
    "collapsed": false,
    "pycharm": {
     "name": "#%%\n"
    }
   }
  },
  {
   "cell_type": "code",
   "execution_count": null,
   "outputs": [],
   "source": [
    "plt.pcolormesh(H2l, cmap='inferno')"
   ],
   "metadata": {
    "collapsed": false,
    "pycharm": {
     "name": "#%%\n"
    }
   }
  },
  {
   "cell_type": "code",
   "execution_count": null,
   "outputs": [],
   "source": [],
   "metadata": {
    "collapsed": false,
    "pycharm": {
     "name": "#%%\n"
    }
   }
  }
 ],
 "metadata": {
  "kernelspec": {
   "display_name": "Python 3",
   "language": "python",
   "name": "python3"
  },
  "language_info": {
   "codemirror_mode": {
    "name": "ipython",
    "version": 2
   },
   "file_extension": ".py",
   "mimetype": "text/x-python",
   "name": "python",
   "nbconvert_exporter": "python",
   "pygments_lexer": "ipython2",
   "version": "2.7.6"
  }
 },
 "nbformat": 4,
 "nbformat_minor": 0
}