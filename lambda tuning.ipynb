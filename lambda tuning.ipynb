{
 "cells": [
  {
   "cell_type": "code",
   "execution_count": null,
   "outputs": [],
   "source": [
    "import numpy as np\n",
    "from simple import nmf_son\n",
    "\n",
    "np.random.seed(42)\n",
    "np.set_printoptions(precision=3)"
   ],
   "metadata": {
    "collapsed": false,
    "pycharm": {
     "name": "#%%\n"
    }
   }
  },
  {
   "cell_type": "code",
   "execution_count": null,
   "outputs": [],
   "source": [
    "def load_results(filepath):\n",
    "    data = np.load(filepath)\n",
    "    return data['Wb'], data['Hb'], data['Wl'], data['Hl'], data['fscores'], data['gscores'], data['lambda_vals']"
   ],
   "metadata": {
    "collapsed": false,
    "pycharm": {
     "name": "#%%\n"
    }
   }
  },
  {
   "cell_type": "code",
   "execution_count": null,
   "outputs": [],
   "source": [
    "X = np.load('urban/2022_11_17/small/X.npz')['X']"
   ],
   "metadata": {
    "collapsed": false,
    "pycharm": {
     "name": "#%%\n"
    }
   }
  },
  {
   "cell_type": "code",
   "execution_count": null,
   "outputs": [],
   "source": [
    "data = np.load('urban/2022_11_17/small/r6_ini.npz')\n",
    "ini_W = data['W']\n",
    "ini_H = data['H']"
   ],
   "metadata": {
    "collapsed": false,
    "pycharm": {
     "name": "#%%\n"
    }
   }
  },
  {
   "cell_type": "code",
   "execution_count": null,
   "outputs": [],
   "source": [
    "rank = 6\n",
    "iters = 2500\n",
    "\n",
    "save_filepath = 'urban/2022_11_21/small/r{}-l{}-it{}.npz'"
   ],
   "metadata": {
    "collapsed": false,
    "pycharm": {
     "name": "#%%\n"
    }
   }
  },
  {
   "cell_type": "code",
   "execution_count": null,
   "outputs": [],
   "source": [
    "# reg_vals = 10 ** np.linspace(-3, 3, 20)\n",
    "reg_vals = [0.001, 0.002, 0.005, 0.01, 0.02, 0.05, 0.1, 0.25, 0.5, 0.75, 1, 2, 5, 10, 25, 50, 100, 200, 500, 1000]\n",
    "it_ckpts = [200, 500, 1000, 2000, 3000, 4000, 5000]"
   ],
   "metadata": {
    "collapsed": false,
    "pycharm": {
     "name": "#%%\n"
    }
   }
  },
  {
   "cell_type": "code",
   "execution_count": null,
   "outputs": [],
   "source": [
    "reg_file_dict = {x: None for x in reg_vals}"
   ],
   "metadata": {
    "collapsed": false,
    "pycharm": {
     "name": "#%%\n"
    }
   }
  },
  {
   "cell_type": "code",
   "execution_count": null,
   "outputs": [],
   "source": [
    "for k in range(len(it_ckpts)):\n",
    "    for reg_val in reg_vals:\n",
    "        if reg_file_dict[reg_val]:\n",
    "            Wb, Hb, Wl, Hl, fscores, gscores, lambda_vals = load_results(reg_file_dict[reg_val])\n",
    "\n",
    "            Wb, Hb, Wl, Hl, new_fscores, new_gscores, new_lambda_vals = nmf_son(X, Wl, Hl, _lambda=reg_val, itermax=it_ckpts[k] - it_ckpts[k-1], scale_lambda=True)\n",
    "\n",
    "            fscores = np.append(fscores[:-1], new_fscores)\n",
    "            gscores = np.append(gscores[:-1], new_gscores)\n",
    "            lambda_vals = np.append(lambda_vals[:-1], new_lambda_vals)\n",
    "            print(2)\n",
    "        else:\n",
    "            Wb, Hb, Wl, Hl, fscores, gscores, lambda_vals = nmf_son(X, ini_W.copy(), ini_H.copy(), _lambda=reg_val, itermax=it_ckpts[k], scale_lambda=True)\n",
    "            print(1)\n",
    "        tmp_filepath = save_filepath.format(rank, str(reg_val).replace('.', '_'), it_ckpts[k])\n",
    "        with open(tmp_filepath, 'wb') as fout:\n",
    "            np.savez_compressed(fout, Wb=Wb, Hb=Hb, Wl=Wl, Hl=Hl, fscores=fscores, gscores=gscores, lambda_vals=lambda_vals)\n",
    "        reg_file_dict[reg_val] = tmp_filepath\n",
    "        print(reg_val, it_ckpts[k], 'complete')\n"
   ],
   "metadata": {
    "collapsed": false,
    "pycharm": {
     "name": "#%%\n"
    }
   }
  },
  {
   "cell_type": "code",
   "execution_count": null,
   "outputs": [],
   "source": [],
   "metadata": {
    "collapsed": false,
    "pycharm": {
     "name": "#%%\n"
    }
   }
  }
 ],
 "metadata": {
  "kernelspec": {
   "display_name": "Python 3",
   "language": "python",
   "name": "python3"
  },
  "language_info": {
   "codemirror_mode": {
    "name": "ipython",
    "version": 2
   },
   "file_extension": ".py",
   "mimetype": "text/x-python",
   "name": "python",
   "nbconvert_exporter": "python",
   "pygments_lexer": "ipython2",
   "version": "2.7.6"
  }
 },
 "nbformat": 4,
 "nbformat_minor": 0
}