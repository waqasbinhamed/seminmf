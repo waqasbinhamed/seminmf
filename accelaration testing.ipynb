{
 "cells": [
  {
   "cell_type": "code",
   "execution_count": null,
   "outputs": [],
   "source": [
    "import numpy as np\n",
    "from simple import nmf_son\n",
    "from accelerated import nmf_son_aa\n",
    "import matplotlib.pyplot as plt\n",
    "\n",
    "np.random.seed(42)\n",
    "np.set_printoptions(precision=3)"
   ],
   "metadata": {
    "collapsed": false,
    "pycharm": {
     "name": "#%%\n"
    }
   }
  },
  {
   "cell_type": "code",
   "execution_count": null,
   "outputs": [],
   "source": [
    "def load_results(filepath):\n",
    "    data = np.load(filepath)\n",
    "    return data['Wb'], data['Hb'], data['Wl'], data['Hl'], data['fscores'], data['gscores'], data['lambda_vals']"
   ],
   "metadata": {
    "collapsed": false,
    "pycharm": {
     "name": "#%%\n"
    }
   }
  },
  {
   "cell_type": "code",
   "execution_count": null,
   "outputs": [],
   "source": [
    "X = np.load('urban/2022_11_17/small/X.npz')['X']"
   ],
   "metadata": {
    "collapsed": false,
    "pycharm": {
     "name": "#%%\n"
    }
   }
  },
  {
   "cell_type": "code",
   "execution_count": null,
   "outputs": [],
   "source": [
    "data = np.load('urban/2022_11_17/small/r6_ini.npz')\n",
    "ini_W = data['W']\n",
    "ini_H = data['H']"
   ],
   "metadata": {
    "collapsed": false,
    "pycharm": {
     "name": "#%%\n"
    }
   }
  },
  {
   "cell_type": "code",
   "execution_count": null,
   "outputs": [],
   "source": [
    "reg = 2\n",
    "iters = 200\n",
    "aa_size = 3"
   ],
   "metadata": {
    "collapsed": false,
    "pycharm": {
     "name": "#%%\n"
    }
   }
  },
  {
   "cell_type": "code",
   "execution_count": null,
   "outputs": [],
   "source": [
    "%%time\n",
    "Wb_old, Hb_old, Wl_old, Hl_old, fscores_old, gscores_old, lambda_vals_old = nmf_son(X, ini_W.copy(), ini_H.copy(), _lambda=reg, itermax=iters, scale_lambda=True)"
   ],
   "metadata": {
    "collapsed": false,
    "pycharm": {
     "name": "#%%\n"
    }
   }
  },
  {
   "cell_type": "code",
   "execution_count": null,
   "outputs": [],
   "source": [
    "%%time\n",
    "Wb_new, Hb_new, Wl_new, Hl_new, fscores_new, gscores_new, lambda_vals_new = nmf_son_aa(X, ini_W.copy(), ini_H.copy(), _lambda=reg, itermax=iters, aa_type='z', aa_size=-1, scale_lambda=True)"
   ],
   "metadata": {
    "collapsed": false,
    "pycharm": {
     "name": "#%%\n"
    }
   }
  },
  {
   "cell_type": "code",
   "execution_count": null,
   "outputs": [],
   "source": [
    "%%time\n",
    "Wb_z3, Hb_z3, Wl_z3, Hl_z3, fscores_z3, gscores_z3, lambda_vals_z3 = nmf_son_aa(X, ini_W.copy(), ini_H.copy(), _lambda=reg, itermax=iters, aa_type='z', aa_size=aa_size, scale_lambda=True)"
   ],
   "metadata": {
    "collapsed": false,
    "pycharm": {
     "name": "#%%\n"
    }
   }
  },
  {
   "cell_type": "code",
   "execution_count": null,
   "outputs": [],
   "source": [
    "%%time\n",
    "Wb_all3, Hb_all3, Wl_all3, Hl_all3, fscores_all3, gscores_all3, lambda_vals_all3 = nmf_son_aa(X, ini_W.copy(), ini_H.copy(), _lambda=reg, itermax=iters, aa_type='all', aa_size=aa_size, scale_lambda=True)"
   ],
   "metadata": {
    "collapsed": false,
    "pycharm": {
     "name": "#%%\n"
    }
   }
  },
  {
   "cell_type": "code",
   "execution_count": null,
   "outputs": [],
   "source": [
    "total_scores_old = fscores_old + lambda_vals_old * gscores_old\n",
    "total_scores_new = fscores_new + lambda_vals_new * gscores_new\n",
    "total_scores_z3 = fscores_z3 + lambda_vals_z3 * gscores_z3\n",
    "total_scores_all = fscores_all + lambda_vals_all * gscores_all"
   ],
   "metadata": {
    "collapsed": false,
    "pycharm": {
     "name": "#%%\n"
    }
   }
  },
  {
   "cell_type": "code",
   "execution_count": null,
   "outputs": [],
   "source": [
    "plt.yscale('log')\n",
    "plt.plot(total_scores_old)\n",
    "plt.plot(total_scores_new)\n",
    "plt.plot(total_scores_z3)\n",
    "plt.plot(total_scores_all)\n",
    "plt.legend(['old', 'new', 'aa3 z', 'aa3 all'])"
   ],
   "metadata": {
    "collapsed": false,
    "pycharm": {
     "name": "#%%\n"
    }
   }
  },
  {
   "cell_type": "code",
   "execution_count": null,
   "outputs": [],
   "source": [
    "Wb_z2, Hb_z2, Wl_z2, Hl_z2, fscores_z2, gscores_z2, lambda_vals_z2 = nmf_son_aa(X, ini_W.copy(), ini_H.copy(), _lambda=reg, itermax=iters, aa_type='z', aa_size=2, scale_lambda=True)\n",
    "Wb_z4, Hb_z4, Wl_z4, Hl_z4, fscores_z4, gscores_z4, lambda_vals_z4 = nmf_son_aa(X, ini_W.copy(), ini_H.copy(), _lambda=reg, itermax=iters, aa_type='z', aa_size=4, scale_lambda=True)"
   ],
   "metadata": {
    "collapsed": false,
    "pycharm": {
     "name": "#%%\n"
    }
   }
  },
  {
   "cell_type": "code",
   "execution_count": null,
   "outputs": [],
   "source": [
    "total_scores_z2 = fscores_z2 + lambda_vals_z2 * gscores_z2\n",
    "total_scores_z4 = fscores_z4 + lambda_vals_z4 * gscores_z4"
   ],
   "metadata": {
    "collapsed": false,
    "pycharm": {
     "name": "#%%\n"
    }
   }
  },
  {
   "cell_type": "code",
   "execution_count": null,
   "outputs": [],
   "source": [
    "plt.yscale('log')\n",
    "plt.plot(total_scores_new)\n",
    "plt.plot(total_scores_z2)\n",
    "plt.plot(total_scores_z3)\n",
    "plt.plot(total_scores_z4)\n",
    "plt.plot(total_scores_all)\n",
    "plt.legend(['new', 'aa_z_2', 'aa_z_3', 'aa_z_4'])"
   ],
   "metadata": {
    "collapsed": false,
    "pycharm": {
     "name": "#%%\n"
    }
   }
  },
  {
   "cell_type": "code",
   "execution_count": null,
   "outputs": [],
   "source": [
    "Wb_all2, Hb_all2, Wl_all2, Hl_all2, fscores_all2, gscores_all2, lambda_vals_all2 = nmf_son_aa(X, ini_W.copy(), ini_H.copy(), _lambda=reg, itermax=iters, aa_type='all', aa_size=2, scale_lambda=True)\n",
    "Wb_all4, Hb_all4, Wl_all4, Hl_all4, fscores_all4, gscores_all4, lambda_vals_all4 = nmf_son_aa(X, ini_W.copy(), ini_H.copy(), _lambda=reg, itermax=iters, aa_type='all', aa_size=4, scale_lambda=True)"
   ],
   "metadata": {
    "collapsed": false,
    "pycharm": {
     "name": "#%%\n"
    }
   }
  },
  {
   "cell_type": "code",
   "execution_count": null,
   "outputs": [],
   "source": [
    "total_scores_all2 = fscores_all2 + lambda_vals_all2 * gscores_all2\n",
    "total_scores_all4 = fscores_all4 + lambda_vals_all4 * gscores_all4"
   ],
   "metadata": {
    "collapsed": false,
    "pycharm": {
     "name": "#%%\n"
    }
   }
  },
  {
   "cell_type": "code",
   "execution_count": null,
   "outputs": [],
   "source": [
    "plt.yscale('log')\n",
    "plt.plot(total_scores_new)\n",
    "plt.plot(total_scores_all2)\n",
    "plt.plot(total_scores_all3)\n",
    "plt.plot(total_scores_all4)\n",
    "plt.plot(total_scores_all)\n",
    "plt.legend(['new', 'aa_all_2', 'aa_all_3', 'aa_all_4'])"
   ],
   "metadata": {
    "collapsed": false,
    "pycharm": {
     "name": "#%%\n"
    }
   }
  }
 ],
 "metadata": {
  "kernelspec": {
   "display_name": "Python 3",
   "language": "python",
   "name": "python3"
  },
  "language_info": {
   "codemirror_mode": {
    "name": "ipython",
    "version": 2
   },
   "file_extension": ".py",
   "mimetype": "text/x-python",
   "name": "python",
   "nbconvert_exporter": "python",
   "pygments_lexer": "ipython2",
   "version": "2.7.6"
  }
 },
 "nbformat": 4,
 "nbformat_minor": 0
}