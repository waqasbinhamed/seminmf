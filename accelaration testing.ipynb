{
 "cells": [
  {
   "cell_type": "code",
   "execution_count": 1,
   "metadata": {
    "collapsed": false,
    "pycharm": {
     "name": "#%%\n"
    }
   },
   "outputs": [],
   "source": [
    "import matplotlib.pyplot as plt\n",
    "from nmf_son.base import nmf_son\n",
    "from nmf_son.andersen_acceleration import nmf_son_z_accelerated, nmf_son_all_accelerated\n",
    "from nmf_son.unnamed_acceleration import nmf_son_acc\n",
    "from nmf_son.utils import *\n",
    "\n",
    "\n",
    "np.random.seed(42)\n",
    "np.set_printoptions(precision=3)"
   ]
  },
  {
   "cell_type": "code",
   "execution_count": 2,
   "metadata": {
    "collapsed": false,
    "pycharm": {
     "name": "#%%\n"
    }
   },
   "outputs": [],
   "source": [
    "def plot_scores(base_scores, scores_arr, ver_names):\n",
    "    fig, axs = plt.subplots(2, len(scores_arr), figsize=(20, 10), sharey='row')\n",
    "\n",
    "    scores_arr = np.array(scores_arr)\n",
    "    min_val = np.min(scores_arr[~np.isnan(scores_arr)])\n",
    "\n",
    "    for idx in range(len(scores_arr)):\n",
    "        axs[0, idx].set_yscale('log')\n",
    "        axs[0, idx].set_title(ver_names[idx], fontsize=16)\n",
    "        axs[0, idx].plot(base_scores, color='black', linewidth=3, label='base')\n",
    "        axs[0, idx].plot(scores_arr[idx], color='cyan', linewidth=1.5, label=ver_names[idx])\n",
    "        axs[0, idx].legend()\n",
    "\n",
    "        axs[1, idx].set_yscale('log')\n",
    "        axs[1, idx].plot(scores_arr[idx] - min_val, color='cyan', linewidth=1.5, label=ver_names[idx])\n",
    "        axs[1, idx].legend()"
   ]
  },
  {
   "cell_type": "code",
   "execution_count": 3,
   "metadata": {
    "collapsed": false,
    "pycharm": {
     "name": "#%%\n"
    }
   },
   "outputs": [],
   "source": [
    "X = np.load('datasets/jasper_full.npz')['X']\n",
    "rank = 8\n",
    "\n",
    "data = np.load(f'saved_models/jasper/jasper_full_r{rank}_ini.npz')\n",
    "ini_W = data['W']\n",
    "ini_H = data['H']\n",
    "\n",
    "reg = 15\n",
    "save_filepath = 'saved_models/urban/acc_testing/r{}_l{}_{}.npz'"
   ]
  },
  {
   "cell_type": "markdown",
   "metadata": {
    "collapsed": false,
    "pycharm": {
     "name": "#%% md\n"
    }
   },
   "source": [
    "## Rank = 8"
   ]
  },
  {
   "cell_type": "code",
   "execution_count": 4,
   "metadata": {
    "collapsed": false,
    "pycharm": {
     "name": "#%%\n"
    }
   },
   "outputs": [],
   "source": [
    "aa_size = 2\n",
    "max_iter = 3000"
   ]
  },
  {
   "cell_type": "code",
   "execution_count": 5,
   "metadata": {
    "collapsed": false,
    "pycharm": {
     "name": "#%%\n"
    }
   },
   "outputs": [
    {
     "name": "stdout",
     "output_type": "stream",
     "text": [
      "CPU times: total: 2h 29min 21s\n",
      "Wall time: 1h 22min 9s\n"
     ]
    }
   ],
   "source": [
    "%%time\n",
    "Wb_base, Hb_base, Wl_base, Hl_base, fscores_base, gscores_base, lambda_vals_base = nmf_son(X, ini_W.copy(), ini_H.copy(), _lambda=reg, itermax=max_iter)"
   ]
  },
  {
   "cell_type": "code",
   "execution_count": 6,
   "metadata": {
    "collapsed": false,
    "pycharm": {
     "name": "#%%\n"
    }
   },
   "outputs": [],
   "source": [
    "save_results(save_filepath.format(rank, reg, 'base'), Wb_base, Hb_base, Wl_base, Hl_base, fscores_base, gscores_base, lambda_vals_base)\n",
    "# # Wb_base, Hb_base, Wl_base, Hl_base, fscores_base, gscores_base, lambda_vals_base = load_results(acc_filepath.format(rank, iters, reg, 'base'))"
   ]
  },
  {
   "cell_type": "code",
   "execution_count": 7,
   "metadata": {
    "collapsed": false,
    "pycharm": {
     "name": "#%%\n"
    }
   },
   "outputs": [
    {
     "name": "stdout",
     "output_type": "stream",
     "text": [
      "CPU times: total: 3h 48min 29s\n",
      "Wall time: 2h 6min 40s\n"
     ]
    }
   ],
   "source": [
    "%%time\n",
    "Wb_z2, Hb_z2, Wl_z2, Hl_z2, fscores_z2, gscores_z2, lambda_vals_z2 = nmf_son_z_accelerated(X, ini_W.copy(), ini_H.copy(), _lambda=reg, itermax=max_iter, andersen_win=aa_size)"
   ]
  },
  {
   "cell_type": "code",
   "execution_count": 8,
   "metadata": {
    "collapsed": false,
    "pycharm": {
     "name": "#%%\n"
    }
   },
   "outputs": [],
   "source": [
    "save_results(save_filepath.format(rank, reg, 'z2'), Wb_z2, Hb_z2, Wl_z2, Hl_z2, fscores_z2, gscores_z2, lambda_vals_z2)\n",
    "# Wb_z2, Hb_z2, Wl_z2, Hl_z2, fscores_z2, gscores_z2, lambda_vals_z2 = load_results(acc_filepath.format(rank, iters, reg, 'z2'))"
   ]
  },
  {
   "cell_type": "code",
   "execution_count": 9,
   "metadata": {
    "collapsed": false,
    "pycharm": {
     "name": "#%%\n"
    }
   },
   "outputs": [
    {
     "name": "stdout",
     "output_type": "stream",
     "text": [
      "CPU times: total: 7h 36min 34s\n",
      "Wall time: 4h 12min 53s\n"
     ]
    }
   ],
   "source": [
    "%%time\n",
    "Wb_all2, Hb_all2, Wl_all2, Hl_all2, fscores_all2, gscores_all2, lambda_vals_all2 = nmf_son_all_accelerated(X, ini_W.copy(), ini_H.copy(), _lambda=reg, itermax=max_iter, andersen_win=aa_size)"
   ]
  },
  {
   "cell_type": "code",
   "execution_count": 10,
   "metadata": {
    "collapsed": false,
    "pycharm": {
     "name": "#%%\n"
    }
   },
   "outputs": [],
   "source": [
    "save_results(save_filepath.format(rank, reg, 'all2'), Wb_all2, Hb_all2, Wl_all2, Hl_all2, fscores_all2, gscores_all2, lambda_vals_all2)\n",
    "# Wb_all2, Hb_all2, Wl_all2, Hl_all2, fscores_all2, gscores_all2, lambda_vals_all2 = load_results(acc_filepath.format(rank, iters, reg, 'all2'))"
   ]
  },
  {
   "cell_type": "code",
   "execution_count": 11,
   "metadata": {
    "collapsed": false,
    "pycharm": {
     "name": "#%%\n"
    }
   },
   "outputs": [
    {
     "name": "stdout",
     "output_type": "stream",
     "text": [
      "CPU times: total: 3h 51min 57s\n",
      "Wall time: 2h 4min 57s\n"
     ]
    }
   ],
   "source": [
    "%%time\n",
    "Wb_acc, Hb_acc, Wl_acc, Hl_acc, fscores_acc, gscores_acc, lambda_vals_acc = nmf_son_acc(X, ini_W.copy(), ini_H.copy(), _lambda=reg, itermax=max_iter)"
   ]
  },
  {
   "cell_type": "code",
   "execution_count": 12,
   "metadata": {
    "collapsed": false,
    "pycharm": {
     "name": "#%%\n"
    }
   },
   "outputs": [],
   "source": [
    "save_results(save_filepath.format(rank, reg, 'unnamed'), Wb_acc, Hb_acc, Wl_acc, Hl_acc, fscores_acc, gscores_acc, lambda_vals_acc)\n",
    "# Wb_acc, Hb_acc, Wl_acc, Hl_acc, fscores_acc, gscores_acc, lambda_vals_acc = load_results(acc_filepath.format(rank, iters, reg, 'acc'))"
   ]
  },
  {
   "cell_type": "code",
   "execution_count": 13,
   "metadata": {
    "collapsed": false,
    "pycharm": {
     "name": "#%%\n"
    }
   },
   "outputs": [],
   "source": [
    "total_scores_base = fscores_base + lambda_vals_base * gscores_base\n",
    "total_scores_z2 = fscores_z2 + lambda_vals_z2 * gscores_z2\n",
    "total_scores_all2 = fscores_all2+ lambda_vals_all2 * gscores_all2\n",
    "total_scores_acc = fscores_acc + lambda_vals_acc * gscores_acc"
   ]
  },
  {
   "cell_type": "code",
   "execution_count": 14,
   "metadata": {
    "collapsed": false,
    "pycharm": {
     "name": "#%%\n"
    }
   },
   "outputs": [
    {
     "data": {
      "image/png": "[encoded data removed]",
      "text/plain": [
       "<Figure size 2000x1000 with 6 Axes>"
      ]
     },
     "metadata": {},
     "output_type": "display_data"
    }
   ],
   "source": [
    "plot_scores(total_scores_base, [total_scores_z2, total_scores_all2, total_scores_acc], ['andersen acc. z 2', 'andersen acc. all 2', 'unnamed'])"
   ]
  },
  {
   "cell_type": "code",
   "execution_count": 15,
   "metadata": {
    "collapsed": false,
    "pycharm": {
     "name": "#%%\n"
    }
   },
   "outputs": [
    {
     "ename": "KeyboardInterrupt",
     "evalue": "",
     "output_type": "error",
     "traceback": [
      "\u001b[1;31m---------------------------------------------------------------------------\u001b[0m",
      "\u001b[1;31mKeyboardInterrupt\u001b[0m                         Traceback (most recent call last)",
      "Cell \u001b[1;32mIn [15], line 1\u001b[0m\n\u001b[1;32m----> 1\u001b[0m Wb_z3, Hb_z3, Wl_z3, Hl_z3, fscores_z3, gscores_z3, lambda_vals_z3 \u001b[39m=\u001b[39m nmf_son_z_accelerated(X, ini_W\u001b[39m.\u001b[39;49mcopy(), ini_H\u001b[39m.\u001b[39;49mcopy(), _lambda\u001b[39m=\u001b[39;49mreg, itermax\u001b[39m=\u001b[39;49mmax_iter, andersen_win\u001b[39m=\u001b[39;49m\u001b[39m3\u001b[39;49m)\n\u001b[0;32m      2\u001b[0m Wb_z4, Hb_z4, Wl_z4, Hl_z4, fscores_z4, gscores_z4, lambda_vals_z4 \u001b[39m=\u001b[39m nmf_son_z_accelerated(X, ini_W\u001b[39m.\u001b[39mcopy(), ini_H\u001b[39m.\u001b[39mcopy(), _lambda\u001b[39m=\u001b[39mreg, itermax\u001b[39m=\u001b[39mmax_iter, andersen_win\u001b[39m=\u001b[39m\u001b[39m4\u001b[39m)\n",
      "File \u001b[1;32mc:\\Users\\waqas\\Desktop\\seminmf\\nmf_son\\andersen_acceleration.py:229\u001b[0m, in \u001b[0;36mnmf_son_z_accelerated\u001b[1;34m(M, W, H, _lambda, itermax, andersen_win, early_stop, verbose)\u001b[0m\n\u001b[0;32m    226\u001b[0m     H[j: j \u001b[39m+\u001b[39m \u001b[39m1\u001b[39m, :] \u001b[39m=\u001b[39m hj \u001b[39m=\u001b[39m non_neg(wj\u001b[39m.\u001b[39mT \u001b[39m@\u001b[39m Mj) \u001b[39m/\u001b[39m (np\u001b[39m.\u001b[39mlinalg\u001b[39m.\u001b[39mnorm(wj) \u001b[39m*\u001b[39m\u001b[39m*\u001b[39m \u001b[39m2\u001b[39m)\n\u001b[0;32m    228\u001b[0m     \u001b[39m# update w_j\u001b[39;00m\n\u001b[1;32m--> 229\u001b[0m     W[:, j: j \u001b[39m+\u001b[39m \u001b[39m1\u001b[39m] \u001b[39m=\u001b[39m wj \u001b[39m=\u001b[39m update_wj_andersen_z(W, Mj, wj, hj, j, scaled_lambda, andersen_win\u001b[39m=\u001b[39;49mandersen_win)\n\u001b[0;32m    230\u001b[0m     Mj \u001b[39m=\u001b[39m Mj \u001b[39m-\u001b[39m wj \u001b[39m@\u001b[39m hj\n\u001b[0;32m    232\u001b[0m fscores[it] \u001b[39m=\u001b[39m np\u001b[39m.\u001b[39mlinalg\u001b[39m.\u001b[39mnorm(M \u001b[39m-\u001b[39m W \u001b[39m@\u001b[39m H, \u001b[39m'\u001b[39m\u001b[39mfro\u001b[39m\u001b[39m'\u001b[39m)\n",
      "File \u001b[1;32mc:\\Users\\waqas\\Desktop\\seminmf\\nmf_son\\andersen_acceleration.py:95\u001b[0m, in \u001b[0;36mupdate_wj_andersen_z\u001b[1;34m(W, Mj, new_z, hj, j, _lambda, itermax, andersen_win)\u001b[0m\n\u001b[0;32m     93\u001b[0m tmp_norm \u001b[39m=\u001b[39m np\u001b[39m.\u001b[39mlinalg\u001b[39m.\u001b[39mnorm(tmp_arr, axis\u001b[39m=\u001b[39m\u001b[39m0\u001b[39m)\n\u001b[0;32m     94\u001b[0m norm_mask \u001b[39m=\u001b[39m tmp_norm \u001b[39m>\u001b[39m \u001b[39m1\u001b[39m\n\u001b[1;32m---> 95\u001b[0m new_wi_arr[:, norm_mask] \u001b[39m=\u001b[39m zeta_arr[:, norm_mask] \u001b[39m-\u001b[39m _lambda \u001b[39m*\u001b[39m (tmp_arr[:, norm_mask] \u001b[39m/\u001b[39m tmp_norm[norm_mask])\n\u001b[0;32m     96\u001b[0m new_wi_arr[:, \u001b[39m~\u001b[39mnorm_mask] \u001b[39m=\u001b[39m zeta_arr[:, \u001b[39m~\u001b[39mnorm_mask] \u001b[39m-\u001b[39m _lambda \u001b[39m*\u001b[39m tmp_arr[:, \u001b[39m~\u001b[39mnorm_mask]\n\u001b[0;32m     98\u001b[0m new_z \u001b[39m=\u001b[39m (rho \u001b[39m*\u001b[39m (new_wf \u001b[39m+\u001b[39m new_w0) \u001b[39m+\u001b[39m rho \u001b[39m*\u001b[39m np\u001b[39m.\u001b[39msum(new_wi_arr, axis\u001b[39m=\u001b[39m\u001b[39m1\u001b[39m, keepdims\u001b[39m=\u001b[39m\u001b[39mTrue\u001b[39;00m) \u001b[39m+\u001b[39m yf \u001b[39m+\u001b[39m y0\n\u001b[0;32m     99\u001b[0m          \u001b[39m+\u001b[39m np\u001b[39m.\u001b[39msum(yi_arr, axis\u001b[39m=\u001b[39m\u001b[39m1\u001b[39m, keepdims\u001b[39m=\u001b[39m\u001b[39mTrue\u001b[39;00m)) \u001b[39m/\u001b[39m (rho \u001b[39m*\u001b[39m (\u001b[39m2\u001b[39m \u001b[39m+\u001b[39m num_edges))\n",
      "\u001b[1;31mKeyboardInterrupt\u001b[0m: "
     ]
    }
   ],
   "source": [
    "Wb_z3, Hb_z3, Wl_z3, Hl_z3, fscores_z3, gscores_z3, lambda_vals_z3 = nmf_son_z_accelerated(X, ini_W.copy(), ini_H.copy(), _lambda=reg, itermax=max_iter, andersen_win=3)\n",
    "Wb_z4, Hb_z4, Wl_z4, Hl_z4, fscores_z4, gscores_z4, lambda_vals_z4 = nmf_son_z_accelerated(X, ini_W.copy(), ini_H.copy(), _lambda=reg, itermax=max_iter, andersen_win=4)"
   ]
  },
  {
   "cell_type": "code",
   "execution_count": null,
   "metadata": {
    "collapsed": false,
    "pycharm": {
     "name": "#%%\n"
    }
   },
   "outputs": [],
   "source": [
    "save_results(save_filepath.format(rank, reg, 'z3'), Wb_z3, Hb_z3, Wl_z3, Hl_z3, fscores_z3, gscores_z3, lambda_vals_z3)\n",
    "save_results(save_filepath.format(rank, reg, 'z4'), Wb_z4, Hb_z4, Wl_z4, Hl_z4, fscores_z4, gscores_z4, lambda_vals_z4)\n",
    "# Wb_z3, Hb_z3, Wl_z3, Hl_z3, fscores_z3, gscores_z3, lambda_vals_z3 = load_results(acc_filepath.format(rank, iters, reg, 'z3'))\n",
    "# Wb_z4, Hb_z4, Wl_z4, Hl_z4, fscores_z4, gscores_z4, lambda_vals_z4 = load_results(acc_filepath.format(rank, iters, reg, 'z4'))"
   ]
  },
  {
   "cell_type": "code",
   "execution_count": null,
   "metadata": {
    "collapsed": false,
    "pycharm": {
     "name": "#%%\n"
    }
   },
   "outputs": [],
   "source": [
    "total_scores_z3 = fscores_z3 + lambda_vals_z3 * gscores_z3\n",
    "total_scores_z4 = fscores_z4 + lambda_vals_z4 * gscores_z4"
   ]
  },
  {
   "cell_type": "code",
   "execution_count": null,
   "metadata": {
    "collapsed": false,
    "pycharm": {
     "name": "#%%\n"
    }
   },
   "outputs": [],
   "source": [
    "plot_scores(total_scores_base, [total_scores_z2, total_scores_z3, total_scores_z4], ['andersen acc. z 2', 'andersen acc. z 3', 'andersen acc. z 4'])"
   ]
  },
  {
   "cell_type": "code",
   "execution_count": null,
   "metadata": {
    "collapsed": false,
    "pycharm": {
     "name": "#%%\n"
    }
   },
   "outputs": [],
   "source": [
    "Wb_all3, Hb_all3, Wl_all3, Hl_all3, fscores_all3, gscores_all3, lambda_vals_all3 = nmf_son_all_accelerated(X, ini_W.copy(), ini_H.copy(), _lambda=reg, itermax=max_iter, andersen_win=3)\n",
    "Wb_all4, Hb_all4, Wl_all4, Hl_all4, fscores_all4, gscores_all4, lambda_vals_all4 = nmf_son_all_accelerated(X, ini_W.copy(), ini_H.copy(), _lambda=reg, itermax=max_iter, andersen_win=4)"
   ]
  },
  {
   "cell_type": "code",
   "execution_count": null,
   "metadata": {
    "collapsed": false,
    "pycharm": {
     "name": "#%%\n"
    }
   },
   "outputs": [],
   "source": [
    "save_results(save_filepath.format(rank, reg, 'all3'), Wb_all3, Hb_all3, Wl_all3, Hl_all3, fscores_all3, gscores_all3, lambda_vals_all3)\n",
    "save_results(save_filepath.format(rank, reg, 'all4'), Wb_all4, Hb_all4, Wl_all4, Hl_all4, fscores_all4, gscores_all4, lambda_vals_all4)\n",
    "# Wb_all3, Hb_all3, Wl_all3, Hl_all3, fscores_all3, gscores_all3, lambda_vals_all3 = load_results(acc_filepath.format(rank, iters, reg, 'all3'))\n",
    "# Wb_all4, Hb_all4, Wl_all4, Hl_all4, fscores_all4, gscores_all4, lambda_vals_all4 = load_results(acc_filepath.format(rank, iters, reg, 'all4'))"
   ]
  },
  {
   "cell_type": "code",
   "execution_count": null,
   "metadata": {
    "collapsed": false,
    "pycharm": {
     "name": "#%%\n"
    }
   },
   "outputs": [],
   "source": [
    "total_scores_all3 = fscores_all3 + lambda_vals_all3 * gscores_all3\n",
    "total_scores_all4 = fscores_all4 + lambda_vals_all4 * gscores_all4"
   ]
  },
  {
   "cell_type": "code",
   "execution_count": null,
   "metadata": {
    "collapsed": false,
    "pycharm": {
     "name": "#%%\n"
    }
   },
   "outputs": [],
   "source": [
    "plot_scores(total_scores_base, [total_scores_all2, total_scores_all3, total_scores_all4], ['andersen acc. all 2', 'andersen acc. all 3', 'andersen acc. all 4'])"
   ]
  }
 ],
 "metadata": {
  "kernelspec": {
   "display_name": "Python 3.9.15 ('research')",
   "language": "python",
   "name": "python3"
  },
  "language_info": {
   "codemirror_mode": {
    "name": "ipython",
    "version": 3
   },
   "file_extension": ".py",
   "mimetype": "text/x-python",
   "name": "python",
   "nbconvert_exporter": "python",
   "pygments_lexer": "ipython3",
   "version": "3.9.15"
  },
  "vscode": {
   "interpreter": {
    "hash": "68957520675938a5638433315f3b1cefef8cbf8a779d95073e5b439c9130f9f7"
   }
  }
 },
 "nbformat": 4,
 "nbformat_minor": 0
}
