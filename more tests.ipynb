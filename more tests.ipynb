{
 "cells": [
  {
   "cell_type": "code",
   "execution_count": 1,
   "metadata": {
    "collapsed": true,
    "pycharm": {
     "name": "#%%\n"
    }
   },
   "outputs": [],
   "source": [
    "import math\n",
    "import numpy as np\n",
    "import scipy.io\n",
    "import matplotlib.pyplot as plt\n",
    "from simple import nmf_son\n",
    "from sklearn.decomposition import NMF\n",
    "from mpl_toolkits.axes_grid1 import make_axes_locatable\n",
    "\n",
    "\n",
    "np.random.seed(42)\n",
    "np.set_printoptions(precision=3)"
   ]
  },
  {
   "cell_type": "code",
   "execution_count": 2,
   "outputs": [],
   "source": [
    "def normalized_similarity(W_ins):\n",
    "    r = W_ins.shape[1]\n",
    "    res = np.ones(shape=(r, r)) * -1\n",
    "    for i in range(r):\n",
    "        for j in range(r):\n",
    "            res[i, j] = np.linalg.norm(W_ins[:, i] - W_ins[:, j])\n",
    "        res[i, :] = res[i, :] / sum(res[i, :])\n",
    "    return res\n",
    "\n",
    "def plot_scores(fscores, gscores, lambda_vals):\n",
    "    def plot_ax(ax, f, g, total):\n",
    "        ax.plot(total, color='black', linewidth=3, label='total')\n",
    "        ax.plot(f, label='f')\n",
    "        ax.plot(g, label='g')\n",
    "        ax.legend()\n",
    "\n",
    "    total_score = fscores + lambda_vals * gscores\n",
    "    fig, axs = plt.subplots(1, 3, figsize=(20, 6))\n",
    "\n",
    "    plot_ax(axs[0], fscores, gscores, total_score)\n",
    "\n",
    "    axs[1].set_yscale('log')\n",
    "    plot_ax(axs[1], fscores, gscores, total_score)\n",
    "\n",
    "    axs[2].set_yscale('log')\n",
    "    plot_ax(axs[2], fscores - fscores[-1], gscores - gscores[-1], total_score - total_score[-1])"
   ],
   "metadata": {
    "collapsed": false,
    "pycharm": {
     "name": "#%%\n"
    }
   }
  },
  {
   "cell_type": "code",
   "execution_count": null,
   "outputs": [],
   "source": [
    "mat = scipy.io.loadmat('urban/Urban.mat')\n",
    "X = mat['X']\n",
    "\n",
    "m, n = X.shape # (162, 94249)\n",
    "num_col = int(math.sqrt(n)) # 307\n",
    "\n",
    "X3d = X.reshape(m, num_col, num_col, order='F')"
   ],
   "metadata": {
    "collapsed": false,
    "pycharm": {
     "name": "#%%\n"
    }
   }
  },
  {
   "cell_type": "code",
   "execution_count": null,
   "outputs": [],
   "source": [
    "wavelength = 80\n",
    "plt.imshow(X3d[wavelength, :, :], cmap='gray')\n",
    "plt.colorbar()"
   ],
   "metadata": {
    "collapsed": false,
    "pycharm": {
     "name": "#%%\n"
    }
   }
  },
  {
   "cell_type": "markdown",
   "source": [
    "### Small dataset"
   ],
   "metadata": {
    "collapsed": false,
    "pycharm": {
     "name": "#%% md\n"
    }
   }
  },
  {
   "cell_type": "code",
   "execution_count": null,
   "outputs": [],
   "source": [
    "img = X3d[wavelength, :, :].copy()\n",
    "img[280: 290, 120: 130] = 1000 # trees\n",
    "img[110: 120, 200: 210] = 1000 # roof\n",
    "plt.imshow(img, cmap='gray')\n",
    "plt.colorbar()"
   ],
   "metadata": {
    "collapsed": false,
    "pycharm": {
     "name": "#%%\n"
    }
   }
  },
  {
   "cell_type": "code",
   "execution_count": null,
   "outputs": [],
   "source": [
    "trees3d = X3d[:, 280: 290, 120: 130] # (162, 10, 10)\n",
    "roof3d = X3d[:, 110: 120, 200: 210] # (162, 10, 10)\n",
    "\n",
    "smallX3d = np.hstack([trees3d, roof3d]) # (162, 20, 10)\n",
    "\n",
    "smallX = smallX3d.reshape(m, -1, order='F') # (162, 200)\n",
    "\n",
    "with open(f'urban/2022_11_17/small/X.npz', 'wb') as fout:\n",
    "    np.savez_compressed(fout, X=smallX)"
   ],
   "metadata": {
    "collapsed": false,
    "pycharm": {
     "name": "#%%\n"
    }
   }
  },
  {
   "cell_type": "code",
   "execution_count": null,
   "outputs": [],
   "source": [
    "# rank = 6\n",
    "# m, n = smallX.shape\n",
    "#\n",
    "# iniW = np.random.rand(m, rank)\n",
    "# iniH = np.random.rand(rank, n)"
   ],
   "metadata": {
    "collapsed": false,
    "pycharm": {
     "name": "#%%\n"
    }
   }
  },
  {
   "cell_type": "code",
   "execution_count": null,
   "outputs": [],
   "source": [
    "# reg = 2\n",
    "# iterations = 100\n",
    "#\n",
    "# Wb, Hb, Wl, Hl, fscores, gscores, lambda_vals = nmf_son(smallX, iniW.copy(), iniH.copy(), _lambda=reg, itermax=iterations, scale_lambda=True, verbose=True)"
   ],
   "metadata": {
    "collapsed": false,
    "pycharm": {
     "name": "#%%\n"
    }
   }
  },
  {
   "cell_type": "code",
   "execution_count": null,
   "outputs": [],
   "source": [
    "# plot_scores(fscores, gscores, lambda_vals)"
   ],
   "metadata": {
    "collapsed": false,
    "pycharm": {
     "name": "#%%\n"
    }
   }
  },
  {
   "cell_type": "code",
   "execution_count": null,
   "outputs": [],
   "source": [
    "# img_size = (20, 10)\n",
    "# fig, axs = plt.subplots(3, rank, figsize=(20, 10), sharey='row')\n",
    "#\n",
    "# for idx in range(rank):\n",
    "#     axs[0, idx].plot(Wl[:, idx] / np.dot(Wl[:, idx], Wl[:, idx]))\n",
    "#     h_idx_3d = Hl[idx, :].reshape(img_size, order='F')\n",
    "#     axs[1, idx].plot(h_idx_3d)\n",
    "#\n",
    "#     axs[2, idx].imshow(h_idx_3d)\n",
    "#\n",
    "#     img = axs[2, idx].imshow(h_idx_3d, cmap='gray')\n",
    "#     divider = make_axes_locatable(axs[2, idx])\n",
    "#     cax = divider.append_axes('right', size='5%', pad=0.1)\n",
    "#     fig.colorbar(img, cax=cax, orientation='vertical')"
   ],
   "metadata": {
    "collapsed": false,
    "pycharm": {
     "name": "#%%\n"
    }
   }
  },
  {
   "cell_type": "code",
   "execution_count": null,
   "outputs": [],
   "source": [
    "# normalized_similarity(Wl)"
   ],
   "metadata": {
    "collapsed": false,
    "pycharm": {
     "name": "#%%\n"
    }
   }
  },
  {
   "cell_type": "markdown",
   "source": [
    "### Andersen's suggestion"
   ],
   "metadata": {
    "collapsed": false,
    "pycharm": {
     "name": "#%% md\n"
    }
   }
  },
  {
   "cell_type": "code",
   "execution_count": null,
   "outputs": [],
   "source": [
    "img = X3d[wavelength, :, :].copy()\n",
    "img[35: 36, 95: 96] = 1000 # asphalt\n",
    "img[250: 251, 290: 291] = 1000 # grass\n",
    "img[110: 111, 200: 201] = 1000 # roof\n",
    "plt.imshow(img, cmap='gray')\n",
    "plt.colorbar()"
   ],
   "metadata": {
    "collapsed": false,
    "pycharm": {
     "name": "#%%\n"
    }
   }
  },
  {
   "cell_type": "code",
   "execution_count": null,
   "outputs": [],
   "source": [
    "asphalt_pt = X3d[:, 35: 36, 95: 96].reshape(m, -1, order='F') # asphalt\n",
    "grass_pt = X3d[:, 250: 251, 290: 291].reshape(m, -1, order='F') # grass\n",
    "roof_pt = X3d[:, 110: 111, 200: 201].reshape(m, -1, order='F') # roof\n",
    "W_true = np.hstack([asphalt_pt, grass_pt, roof_pt]) # (162, 20, 10)\n",
    "\n",
    "rank_true = W_true.shape[1]\n",
    "n = 8\n",
    "H_true = np.random.rand(rank_true, n)\n",
    "H_true = H_true / H_true.sum(axis=0)\n",
    "\n",
    "M = W_true @ H_true\n",
    "\n",
    "with open(f'urban/2022_11_17/custom/X_gt.npz', 'wb') as fout:\n",
    "    np.savez_compressed(fout, X=M, W=W_true, H=H_true)"
   ],
   "metadata": {
    "collapsed": false,
    "pycharm": {
     "name": "#%%\n"
    }
   }
  },
  {
   "cell_type": "code",
   "execution_count": null,
   "outputs": [],
   "source": [
    "# rank = 6\n",
    "# m, n = M.shape\n",
    "#\n",
    "# iniW = np.random.rand(m, rank)\n",
    "# iniH = np.random.rand(rank, n)"
   ],
   "metadata": {
    "collapsed": false,
    "pycharm": {
     "name": "#%%\n"
    }
   }
  },
  {
   "cell_type": "code",
   "execution_count": null,
   "outputs": [],
   "source": [
    "# reg = 2\n",
    "# iterations = 100\n",
    "#\n",
    "# Wb, Hb, Wl, Hl, fscores, gscores, lambda_vals = nmf_son(M, iniW.copy(), iniH.copy(), _lambda=reg, itermax=iterations, scale_lambda=True, verbose=True)"
   ],
   "metadata": {
    "collapsed": false,
    "pycharm": {
     "name": "#%%\n"
    }
   }
  },
  {
   "cell_type": "code",
   "execution_count": null,
   "outputs": [],
   "source": [
    "# plot_scores(fscores, gscores, lambda_vals)"
   ],
   "metadata": {
    "collapsed": false,
    "pycharm": {
     "name": "#%%\n"
    }
   }
  },
  {
   "cell_type": "code",
   "execution_count": null,
   "outputs": [],
   "source": [
    "# img_size = (20, 10)\n",
    "# fig, axs = plt.subplots(2, rank, figsize=(20, 10), sharey='row')\n",
    "#\n",
    "# for idx in range(rank):\n",
    "#     axs[0, idx].plot(Wl[:, idx] / np.dot(Wl[:, idx], Wl[:, idx]))\n",
    "#     axs[1, idx].plot(Hl[idx, :])"
   ],
   "metadata": {
    "collapsed": false,
    "pycharm": {
     "name": "#%%\n"
    }
   }
  },
  {
   "cell_type": "code",
   "execution_count": null,
   "outputs": [],
   "source": [
    "# normalized_similarity(Wl)"
   ],
   "metadata": {
    "collapsed": false,
    "pycharm": {
     "name": "#%%\n"
    }
   }
  },
  {
   "cell_type": "markdown",
   "source": [
    "### New small dataset"
   ],
   "metadata": {
    "collapsed": false,
    "pycharm": {
     "name": "#%% md\n"
    }
   }
  },
  {
   "cell_type": "code",
   "execution_count": null,
   "outputs": [],
   "source": [
    "img = X3d[wavelength, :, :].copy()\n",
    "img[255: 260, 300: 305] = 1000 # trees\n",
    "img[110: 115, 195: 200] = 1000 # roof\n",
    "plt.imshow(img, cmap='gray')\n",
    "plt.colorbar()"
   ],
   "metadata": {
    "collapsed": false,
    "pycharm": {
     "name": "#%%\n"
    }
   }
  },
  {
   "cell_type": "code",
   "execution_count": null,
   "outputs": [],
   "source": [
    "trees3d = X3d[:, 255: 260, 300: 305] # (162, 10, 10)\n",
    "roof3d = X3d[:, 110: 115, 195: 200] # (162, 10, 10)\n",
    "\n",
    "smallX3d = np.hstack([trees3d, roof3d]) # (162, 20, 10)\n",
    "\n",
    "smallX = smallX3d.reshape(m, -1, order='F') # (162, 200)\n",
    "with open(f'urban/2022_11_17/smaller/X.npz', 'wb') as fout:\n",
    "    np.savez_compressed(fout, X=smallX)"
   ],
   "metadata": {
    "collapsed": false,
    "pycharm": {
     "name": "#%%\n"
    }
   }
  },
  {
   "cell_type": "code",
   "execution_count": null,
   "outputs": [],
   "source": [
    "# rank = 6\n",
    "# m, n = smallX.shape\n",
    "#\n",
    "# iniW = np.random.rand(m, rank)\n",
    "# iniH = np.random.rand(rank, n)"
   ],
   "metadata": {
    "collapsed": false,
    "pycharm": {
     "name": "#%%\n"
    }
   }
  },
  {
   "cell_type": "code",
   "execution_count": null,
   "outputs": [],
   "source": [
    "# reg = 2\n",
    "# iterations = 100\n",
    "#\n",
    "# Wb, Hb, Wl, Hl, fscores, gscores, lambda_vals = nmf_son(smallX, iniW.copy(), iniH.copy(), _lambda=reg, itermax=iterations, scale_lambda=True, verbose=True)"
   ],
   "metadata": {
    "collapsed": false,
    "pycharm": {
     "name": "#%%\n"
    }
   }
  },
  {
   "cell_type": "code",
   "execution_count": null,
   "outputs": [],
   "source": [
    "# plot_scores(fscores, gscores, lambda_vals)"
   ],
   "metadata": {
    "collapsed": false,
    "pycharm": {
     "name": "#%%\n"
    }
   }
  },
  {
   "cell_type": "code",
   "execution_count": null,
   "outputs": [],
   "source": [
    "# img_size = (10, 5)\n",
    "# fig, axs = plt.subplots(3, rank, figsize=(20, 10), sharey='row')\n",
    "#\n",
    "# for idx in range(rank):\n",
    "#     axs[0, idx].plot(Wl[:, idx] / np.dot(Wl[:, idx], Wl[:, idx]))\n",
    "#     h_idx_3d = Hl[idx, :].reshape(img_size, order='F')\n",
    "#     axs[1, idx].plot(h_idx_3d)\n",
    "#\n",
    "#     axs[2, idx].imshow(h_idx_3d)\n",
    "#\n",
    "#     img = axs[2, idx].imshow(h_idx_3d, cmap='gray')\n",
    "#     divider = make_axes_locatable(axs[2, idx])\n",
    "#     cax = divider.append_axes('right', size='5%', pad=0.1)\n",
    "#     fig.colorbar(img, cax=cax, orientation='vertical')"
   ],
   "metadata": {
    "collapsed": false,
    "pycharm": {
     "name": "#%%\n"
    }
   }
  },
  {
   "cell_type": "code",
   "execution_count": null,
   "outputs": [],
   "source": [
    "# normalized_similarity(Wl)"
   ],
   "metadata": {
    "collapsed": false,
    "pycharm": {
     "name": "#%%\n"
    }
   }
  },
  {
   "cell_type": "code",
   "execution_count": null,
   "outputs": [],
   "source": [
    "currX = np.load('urban/2022_11_17/custom/X_gt.npz')['X']\n",
    "m, n = currX.shape\n",
    "\n",
    "ranks = [6, 8]\n",
    "regs = [0.05, 0.25, 0.5, 1, 2, 10, 100]\n",
    "it_ckpts = [200, 500, 1000, 2000, 3000, 4000, 5000]\n",
    "\n",
    "\n",
    "save_filepath = 'urban/2022_11_17/custom/r{}-l{}-it{}.npz'\n",
    "\n",
    "for rank in ranks:\n",
    "    iniW = np.random.rand(m, rank)\n",
    "    iniH = np.random.rand(rank, n)\n",
    "    with open(f'urban/2022_11_17/custom/r{rank}_ini.npz', 'wb') as fout:\n",
    "        np.savez_compressed(fout, W=iniW, H=iniH)\n",
    "\n",
    "    for reg_val in regs:\n",
    "\n",
    "        Wb, Hb, Wl, Hl, fscores, gscores, lambda_vals = nmf_son(currX, iniW.copy(), iniH.copy(), _lambda=reg_val, itermax=it_ckpts[0], scale_lambda=True)\n",
    "        with open(save_filepath.format(rank, reg_val, it_ckpts[0]), 'wb') as fout:\n",
    "            np.savez_compressed(fout, Wb=Wb, Hb=Hb, Wl=Wl, Hl=Hl, fscores=fscores, gscores=gscores, lambda_vals=lambda_vals)\n",
    "\n",
    "        for k in range(1, len(it_ckpts)):\n",
    "            Wb, Hb, Wl, Hl, new_fscores, new_gscores, new_lambda_vals = nmf_son(currX, Wl, Hl, _lambda=reg_val, itermax=it_ckpts[k] - it_ckpts[k-1], scale_lambda=True)\n",
    "\n",
    "            fscores = np.append(fscores[:-1], new_fscores)\n",
    "            gscores = np.append(gscores[:-1], new_gscores)\n",
    "            lambda_vals = np.append(lambda_vals[:-1], new_lambda_vals)\n",
    "\n",
    "            with open(save_filepath.format(rank, reg_val, it_ckpts[k]), 'wb') as fout:\n",
    "                np.savez_compressed(fout, Wb=Wb, Hb=Hb, Wl=Wl, Hl=Hl, fscores=fscores, gscores=gscores, lambda_vals=lambda_vals)\n",
    "            print(rank, reg_val, it_ckpts[k], 'complete')"
   ],
   "metadata": {
    "collapsed": false,
    "pycharm": {
     "name": "#%%\n"
    }
   }
  },
  {
   "cell_type": "code",
   "execution_count": null,
   "outputs": [],
   "source": [
    "currX = np.load('urban/2022_11_17/custom/X_gt.npz')['X']\n",
    "m, n = currX.shape\n",
    "\n",
    "ranks = [6, 8]\n",
    "regs = [0.05, 0.25, 0.5, 1, 2, 10, 100]\n",
    "it_ckpts = [200, 500, 1000, 2000, 3000, 4000, 5000]\n",
    "\n",
    "\n",
    "save_filepath = 'urban/2022_11_17/custom/r{}-l{}-it{}.npz'\n",
    "\n",
    "for rank in ranks:\n",
    "    iniW = np.random.rand(m, rank)\n",
    "    iniH = np.random.rand(rank, n)\n",
    "    with open(f'urban/2022_11_17/custom/r{rank}_ini.npz', 'wb') as fout:\n",
    "        np.savez_compressed(fout, W=iniW, H=iniH)\n",
    "\n",
    "    for reg_val in regs:\n",
    "\n",
    "        Wb, Hb, Wl, Hl, fscores, gscores, lambda_vals = nmf_son(currX, iniW.copy(), iniH.copy(), _lambda=reg_val, itermax=it_ckpts[0], scale_lambda=True)\n",
    "        with open(save_filepath.format(rank, reg_val, it_ckpts[0]), 'wb') as fout:\n",
    "            np.savez_compressed(fout, Wb=Wb, Hb=Hb, Wl=Wl, Hl=Hl, fscores=fscores, gscores=gscores, lambda_vals=lambda_vals)\n",
    "\n",
    "        for k in range(1, len(it_ckpts)):\n",
    "            Wb, Hb, Wl, Hl, new_fscores, new_gscores, new_lambda_vals = nmf_son(currX, Wl, Hl, _lambda=reg_val, itermax=it_ckpts[k] - it_ckpts[k-1], scale_lambda=True)\n",
    "\n",
    "            fscores = np.append(fscores[:-1], new_fscores)\n",
    "            gscores = np.append(gscores[:-1], new_gscores)\n",
    "            lambda_vals = np.append(lambda_vals[:-1], new_lambda_vals)\n",
    "\n",
    "            with open(save_filepath.format(rank, reg_val, it_ckpts[k]), 'wb') as fout:\n",
    "                np.savez_compressed(fout, Wb=Wb, Hb=Hb, Wl=Wl, Hl=Hl, fscores=fscores, gscores=gscores, lambda_vals=lambda_vals)\n",
    "            print(rank, reg_val, it_ckpts[k], 'complete')"
   ],
   "metadata": {
    "collapsed": false,
    "pycharm": {
     "name": "#%%\n"
    }
   }
  },
  {
   "cell_type": "code",
   "execution_count": null,
   "outputs": [],
   "source": [
    "currX = np.load('urban/2022_11_17/smaller/X.npz')['X']\n",
    "m, n = currX.shape\n",
    "\n",
    "ranks = [6, 8]\n",
    "regs = [0.05, 0.25, 0.5, 1, 2, 10, 100]\n",
    "it_ckpts = [200, 500, 1000, 2000, 3000, 4000, 5000]\n",
    "\n",
    "\n",
    "save_filepath = 'urban/2022_11_17/smaller/r{}-l{}-it{}.npz'\n",
    "\n",
    "for rank in ranks:\n",
    "    iniW = np.random.rand(m, rank)\n",
    "    iniH = np.random.rand(rank, n)\n",
    "    with open(f'urban/2022_11_17/smaller/r{rank}_ini.npz', 'wb') as fout:\n",
    "        np.savez_compressed(fout, W=iniW, H=iniH)\n",
    "\n",
    "    for reg_val in regs:\n",
    "\n",
    "        Wb, Hb, Wl, Hl, fscores, gscores, lambda_vals = nmf_son(currX, iniW.copy(), iniH.copy(), _lambda=reg_val, itermax=it_ckpts[0], scale_lambda=True)\n",
    "        with open(save_filepath.format(rank, reg_val, it_ckpts[0]), 'wb') as fout:\n",
    "            np.savez_compressed(fout, Wb=Wb, Hb=Hb, Wl=Wl, Hl=Hl, fscores=fscores, gscores=gscores, lambda_vals=lambda_vals)\n",
    "\n",
    "        for k in range(1, len(it_ckpts)):\n",
    "            Wb, Hb, Wl, Hl, new_fscores, new_gscores, new_lambda_vals = nmf_son(currX, Wl, Hl, _lambda=reg_val, itermax=it_ckpts[k] - it_ckpts[k-1], scale_lambda=True)\n",
    "\n",
    "            fscores = np.append(fscores[:-1], new_fscores)\n",
    "            gscores = np.append(gscores[:-1], new_gscores)\n",
    "            lambda_vals = np.append(lambda_vals[:-1], new_lambda_vals)\n",
    "\n",
    "            with open(save_filepath.format(rank, reg_val, it_ckpts[k]), 'wb') as fout:\n",
    "                np.savez_compressed(fout, Wb=Wb, Hb=Hb, Wl=Wl, Hl=Hl, fscores=fscores, gscores=gscores, lambda_vals=lambda_vals)\n",
    "            print(rank, reg_val, it_ckpts[k], 'complete')"
   ],
   "metadata": {
    "collapsed": false,
    "pycharm": {
     "name": "#%%\n"
    }
   }
  },
  {
   "cell_type": "code",
   "execution_count": null,
   "outputs": [],
   "source": [
    "currX = np.load('urban/2022_11_17/small/X.npz')['X']\n",
    "m, n = currX.shape\n",
    "\n",
    "ranks = [6, 8]\n",
    "regs = [0.05, 0.25, 0.5, 1, 2, 10, 100]\n",
    "it_ckpts = [200, 500, 1000, 2000, 3000, 4000, 5000]\n",
    "\n",
    "\n",
    "save_filepath = 'urban/2022_11_17/small/r{}-l{}-it{}.npz'\n",
    "\n",
    "for rank in ranks:\n",
    "    iniW = np.random.rand(m, rank)\n",
    "    iniH = np.random.rand(rank, n)\n",
    "    with open(f'urban/2022_11_17/small/r{rank}_ini.npz', 'wb') as fout:\n",
    "        np.savez_compressed(fout, W=iniW, H=iniH)\n",
    "\n",
    "    for reg_val in regs:\n",
    "\n",
    "        Wb, Hb, Wl, Hl, fscores, gscores, lambda_vals = nmf_son(currX, iniW.copy(), iniH.copy(), _lambda=reg_val, itermax=it_ckpts[0], scale_lambda=True)\n",
    "        with open(save_filepath.format(rank, reg_val, it_ckpts[0]), 'wb') as fout:\n",
    "            np.savez_compressed(fout, Wb=Wb, Hb=Hb, Wl=Wl, Hl=Hl, fscores=fscores, gscores=gscores, lambda_vals=lambda_vals)\n",
    "\n",
    "        for k in range(1, len(it_ckpts)):\n",
    "            Wb, Hb, Wl, Hl, new_fscores, new_gscores, new_lambda_vals = nmf_son(currX, Wl, Hl, _lambda=reg_val, itermax=it_ckpts[k] - it_ckpts[k-1], scale_lambda=True)\n",
    "\n",
    "            fscores = np.append(fscores[:-1], new_fscores)\n",
    "            gscores = np.append(gscores[:-1], new_gscores)\n",
    "            lambda_vals = np.append(lambda_vals[:-1], new_lambda_vals)\n",
    "\n",
    "            with open(save_filepath.format(rank, reg_val, it_ckpts[k]), 'wb') as fout:\n",
    "                np.savez_compressed(fout, Wb=Wb, Hb=Hb, Wl=Wl, Hl=Hl, fscores=fscores, gscores=gscores, lambda_vals=lambda_vals)\n",
    "            print(rank, reg_val, it_ckpts[k], 'complete')"
   ],
   "metadata": {
    "collapsed": false,
    "pycharm": {
     "name": "#%%\n"
    }
   }
  }
 ],
 "metadata": {
  "kernelspec": {
   "display_name": "Python 3",
   "language": "python",
   "name": "python3"
  },
  "language_info": {
   "codemirror_mode": {
    "name": "ipython",
    "version": 2
   },
   "file_extension": ".py",
   "mimetype": "text/x-python",
   "name": "python",
   "nbconvert_exporter": "python",
   "pygments_lexer": "ipython2",
   "version": "2.7.6"
  }
 },
 "nbformat": 4,
 "nbformat_minor": 0
}